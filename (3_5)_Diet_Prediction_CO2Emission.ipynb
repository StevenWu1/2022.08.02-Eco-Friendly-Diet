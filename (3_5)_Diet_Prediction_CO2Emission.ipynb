{
  "cells": [
    {
      "cell_type": "markdown",
      "metadata": {
        "id": "view-in-github",
        "colab_type": "text"
      },
      "source": [
        "<a href=\"https://colab.research.google.com/github/StevenWu1/2022.08.02-Eco-Friendly-Diet/blob/main/(3_5)_Diet_Prediction_CO2Emission.ipynb\" target=\"_parent\"><img src=\"https://colab.research.google.com/assets/colab-badge.svg\" alt=\"Open In Colab\"/></a>"
      ]
    },
    {
      "cell_type": "code",
      "execution_count": null,
      "metadata": {
        "colab": {
          "base_uri": "https://localhost:8080/"
        },
        "id": "_jQgHGY5SQb0",
        "outputId": "24703ccf-450c-4846-bcf7-d1ddb7ab3ad5"
      },
      "outputs": [
        {
          "output_type": "stream",
          "name": "stdout",
          "text": [
            "Drive already mounted at /content/drive; to attempt to forcibly remount, call drive.mount(\"/content/drive\", force_remount=True).\n"
          ]
        }
      ],
      "source": [
        "from google.colab import drive\n",
        "drive.mount('/content/drive')\n",
        "import pandas as pd\n",
        "import numpy\n",
        "import matplotlib.pyplot as plt\n",
        "\n",
        "df_CO2 = pd.read_excel(\"/content/drive/MyDrive/Food Inspection/Food Research 2022.08.28.xlsx\")"
      ]
    },
    {
      "cell_type": "code",
      "execution_count": null,
      "metadata": {
        "colab": {
          "base_uri": "https://localhost:8080/"
        },
        "id": "xNuxQmLeSQb9",
        "outputId": "14074a3f-8a44-4657-8e57-971f08605835"
      },
      "outputs": [
        {
          "output_type": "stream",
          "name": "stdout",
          "text": [
            "99.48 9.87 0.53\n"
          ]
        },
        {
          "output_type": "execute_result",
          "data": {
            "text/plain": [
              "0                 Beef\n",
              "1                 Pork\n",
              "2              Poultry\n",
              "3                 Lamb\n",
              "4                 Fish\n",
              "5               Shrimp\n",
              "6               Cheese\n",
              "7                 Eggs\n",
              "8                 Milk\n",
              "9                Wheat\n",
              "10        Total Fruits\n",
              "11    Total Vegetables\n",
              "12            Tomatoes\n",
              "13                Peas\n",
              "14            Potatoes\n",
              "15              Onions\n",
              "16             Berries\n",
              "17             Bananas\n",
              "18        Citrus Fruit\n",
              "19              Apples\n",
              "20              Coffee\n",
              "Name: Type of Food, dtype: object"
            ]
          },
          "metadata": {},
          "execution_count": 13
        }
      ],
      "source": [
        "df_CO2['Type of Food']\n",
        "beef_footprint= df_CO2[df_CO2['Type of Food']=='Beef']['Updated CO2 Emission'].values[0]\n",
        "chick_footprint= df_CO2[df_CO2['Type of Food']=='Poultry']['Updated CO2 Emission'].values[0]\n",
        "vege_footprint= df_CO2[df_CO2['Type of Food']=='Total Vegetables']['Updated CO2 Emission'].values[0]\n",
        "print (beef_footprint, chick_footprint, vege_footprint)\n",
        "\n",
        "df_CO2['Type of Food']"
      ]
    },
    {
      "cell_type": "code",
      "execution_count": null,
      "metadata": {
        "colab": {
          "base_uri": "https://localhost:8080/",
          "height": 1000
        },
        "id": "MyUBT159SQb_",
        "outputId": "fcd85c77-043d-4a6a-dd90-8f0d76ac8af1"
      },
      "outputs": [
        {
          "output_type": "display_data",
          "data": {
            "text/plain": [
              "<Figure size 432x288 with 1 Axes>"
            ],
            "image/png": "[encoded data removed]"
          },
          "metadata": {
            "needs_background": "light"
          }
        },
        {
          "output_type": "stream",
          "name": "stdout",
          "text": [
            "Year: 1910.0 Population: 94104186\n",
            "Year: 1911.0 Population: 94974311\n",
            "Year: 1912.0 Population: 95883622\n",
            "Year: 1913.0 Population: 96831693\n",
            "Year: 1914.0 Population: 97818100\n",
            "Year: 1915.0 Population: 98842418\n",
            "Year: 1916.0 Population: 99904223\n",
            "Year: 1917.0 Population: 101003090\n",
            "Year: 1918.0 Population: 102138595\n",
            "Year: 1919.0 Population: 103310312\n",
            "Year: 1920.0 Population: 104517818\n",
            "Year: 1921.0 Population: 105760687\n",
            "Year: 1922.0 Population: 107038495\n",
            "Year: 1923.0 Population: 108350818\n",
            "Year: 1924.0 Population: 109697230\n",
            "Year: 1925.0 Population: 111077307\n",
            "Year: 1926.0 Population: 112490624\n",
            "Year: 1927.0 Population: 113936757\n",
            "Year: 1928.0 Population: 115415281\n",
            "Year: 1929.0 Population: 116925772\n",
            "Year: 1930.0 Population: 118467804\n",
            "Year: 1931.0 Population: 120040954\n",
            "Year: 1932.0 Population: 121644796\n",
            "Year: 1933.0 Population: 123278905\n",
            "Year: 1934.0 Population: 124942858\n",
            "Year: 1935.0 Population: 126636230\n",
            "Year: 1936.0 Population: 128358596\n",
            "Year: 1937.0 Population: 130109530\n",
            "Year: 1938.0 Population: 131888610\n",
            "Year: 1939.0 Population: 133695410\n",
            "Year: 1940.0 Population: 135529505\n",
            "Year: 1941.0 Population: 137390470\n",
            "Year: 1942.0 Population: 139277882\n",
            "Year: 1943.0 Population: 141191315\n",
            "Year: 1944.0 Population: 143130345\n",
            "Year: 1945.0 Population: 145094548\n",
            "Year: 1946.0 Population: 147083498\n",
            "Year: 1947.0 Population: 149096770\n",
            "Year: 1948.0 Population: 151133941\n",
            "Year: 1949.0 Population: 153194586\n",
            "Year: 1950.0 Population: 155278280\n",
            "Year: 1951.0 Population: 157384598\n",
            "Year: 1952.0 Population: 159513115\n",
            "Year: 1953.0 Population: 161663408\n",
            "Year: 1954.0 Population: 163835051\n",
            "Year: 1955.0 Population: 166027620\n",
            "Year: 1956.0 Population: 168240690\n",
            "Year: 1957.0 Population: 170473837\n",
            "Year: 1958.0 Population: 172726636\n",
            "Year: 1959.0 Population: 174998661\n",
            "Year: 1960.0 Population: 177289490\n",
            "Year: 1961.0 Population: 179598696\n",
            "Year: 1962.0 Population: 181925856\n",
            "Year: 1963.0 Population: 184270544\n",
            "Year: 1964.0 Population: 186632336\n",
            "Year: 1965.0 Population: 189010808\n",
            "Year: 1966.0 Population: 191405535\n",
            "Year: 1967.0 Population: 193816091\n",
            "Year: 1968.0 Population: 196242053\n",
            "Year: 1969.0 Population: 198682996\n",
            "Year: 1970.0 Population: 201138495\n",
            "Year: 1971.0 Population: 203608126\n",
            "Year: 1972.0 Population: 206091463\n",
            "Year: 1973.0 Population: 208588083\n",
            "Year: 1974.0 Population: 211097561\n",
            "Year: 1975.0 Population: 213619471\n",
            "Year: 1976.0 Population: 216153390\n",
            "Year: 1977.0 Population: 218698893\n",
            "Year: 1978.0 Population: 221255554\n",
            "Year: 1979.0 Population: 223822950\n",
            "Year: 1980.0 Population: 226400656\n",
            "Year: 1981.0 Population: 228988247\n",
            "Year: 1982.0 Population: 231585299\n",
            "Year: 1983.0 Population: 234191386\n",
            "Year: 1984.0 Population: 236806085\n",
            "Year: 1985.0 Population: 239428970\n",
            "Year: 1986.0 Population: 242059617\n",
            "Year: 1987.0 Population: 244697602\n",
            "Year: 1988.0 Population: 247342499\n",
            "Year: 1989.0 Population: 249993884\n",
            "Year: 1990.0 Population: 252651333\n",
            "Year: 1991.0 Population: 255314420\n",
            "Year: 1992.0 Population: 257982722\n",
            "Year: 1993.0 Population: 260655813\n",
            "Year: 1994.0 Population: 263333269\n",
            "Year: 1995.0 Population: 266014665\n",
            "Year: 1996.0 Population: 268699577\n",
            "Year: 1997.0 Population: 271387579\n",
            "Year: 1998.0 Population: 274078248\n",
            "Year: 1999.0 Population: 276771159\n",
            "Year: 2000.0 Population: 279465886\n",
            "Year: 2001.0 Population: 282162006\n",
            "Year: 2002.0 Population: 284859093\n",
            "Year: 2003.0 Population: 287556724\n",
            "Year: 2004.0 Population: 290254473\n",
            "Year: 2005.0 Population: 292951916\n",
            "Year: 2006.0 Population: 295648628\n",
            "Year: 2007.0 Population: 298344185\n",
            "Year: 2008.0 Population: 301038161\n",
            "Year: 2009.0 Population: 303730133\n",
            "Year: 2010.0 Population: 306419675\n",
            "Year: 2011.0 Population: 309106364\n",
            "Year: 2012.0 Population: 311789773\n",
            "Year: 2013.0 Population: 314469480\n",
            "Year: 2014.0 Population: 317145058\n",
            "Year: 2015.0 Population: 319816084\n",
            "Year: 2016.0 Population: 322482132\n",
            "Year: 2017.0 Population: 325142779\n",
            "Year: 2018.0 Population: 327797599\n",
            "Year: 2019.0 Population: 330446168\n",
            "Year: 2020.0 Population: 333088062\n",
            "Year: 2021.0 Population: 335722854\n",
            "Year: 2022.0 Population: 338350122\n",
            "Year: 2023.0 Population: 340969440\n",
            "Year: 2024.0 Population: 343580384\n",
            "Year: 2025.0 Population: 346182529\n",
            "Year: 2026.0 Population: 348775450\n",
            "Year: 2027.0 Population: 351358722\n",
            "Year: 2028.0 Population: 353931922\n",
            "Year: 2029.0 Population: 356494625\n",
            "Year: 2030.0 Population: 359046405\n",
            "Year: 2031.0 Population: 361586838\n",
            "Year: 2032.0 Population: 364115500\n",
            "Year: 2033.0 Population: 366631966\n",
            "Year: 2034.0 Population: 369135811\n",
            "Year: 2035.0 Population: 371626610\n",
            "Year: 2036.0 Population: 374103940\n",
            "Year: 2037.0 Population: 376567375\n",
            "Year: 2038.0 Population: 379016490\n",
            "Year: 2039.0 Population: 381450862\n",
            "Year: 2040.0 Population: 383870065\n",
            "Year: 2041.0 Population: 386273675\n",
            "Year: 2042.0 Population: 388661267\n",
            "Year: 2043.0 Population: 391032416\n",
            "Year: 2044.0 Population: 393386699\n",
            "Year: 2045.0 Population: 395723689\n",
            "Year: 2046.0 Population: 398042964\n",
            "Year: 2047.0 Population: 400344097\n",
            "Year: 2048.0 Population: 402626664\n",
            "Year: 2049.0 Population: 404890241\n",
            "Year: 2050.0 Population: 407134403\n",
            "Year: 2051.0 Population: 409358725\n",
            "Year: 2052.0 Population: 411562784\n",
            "Year: 2053.0 Population: 413746153\n",
            "Year: 2054.0 Population: 415908409\n",
            "Year: 2055.0 Population: 418049126\n",
            "Year: 2056.0 Population: 420167881\n",
            "Year: 2057.0 Population: 422264248\n",
            "Year: 2058.0 Population: 424337803\n",
            "Year: 2059.0 Population: 426388122\n",
            "Year: 2060.0 Population: 428414779\n",
            "Year: 2061.0 Population: 430417350\n",
            "Year: 2062.0 Population: 432395410\n",
            "Year: 2063.0 Population: 434348535\n",
            "Year: 2064.0 Population: 436276300\n",
            "Year: 2065.0 Population: 438178281\n",
            "Year: 2066.0 Population: 440054052\n",
            "Year: 2067.0 Population: 441903190\n",
            "Year: 2068.0 Population: 443725269\n",
            "Year: 2069.0 Population: 445519865\n",
            "Year: 2070.0 Population: 447286553\n"
          ]
        }
      ],
      "source": [
        "# Trend over time (+population + time)\n",
        "df_pop = pd.read_excel(\"/content/drive/MyDrive/Food Inspection/Food Research 2022.08.28.xlsx\", sheet_name = \"4. Population\")\n",
        "df_popX = df_pop['Year']\n",
        "df_popY = df_pop['Population']\n",
        "df_popY = df_popY.dropna()\n",
        "df_popX = df_popX.dropna()\n",
        "df_popgraph = numpy.poly1d(numpy.polyfit(df_popX, df_popY,3))\n",
        "\n",
        "df_popline = numpy.linspace(1910, 2070, 161)\n",
        "plt.scatter(df_popX, df_popY)\n",
        "plt.plot(df_popline, df_popgraph(df_popline))\n",
        "plt.show()\n",
        "df_show = df_popgraph(df_popline)\n",
        "for i in range(0, len(df_show)):\n",
        "  print(\"Year:\", df_popline[i], \"Population:\", round(df_show[i]))\n"
      ]
    },
    {
      "cell_type": "code",
      "execution_count": null,
      "metadata": {
        "colab": {
          "base_uri": "https://localhost:8080/"
        },
        "id": "QC_fwgZySQcC",
        "outputId": "4167017b-b15e-4092-adb2-e63ff314cf26"
      },
      "outputs": [
        {
          "output_type": "execute_result",
          "data": {
            "text/plain": [
              "array([ 94104186,  94974311,  95883622,  96831693,  97818100,  98842418,\n",
              "        99904223, 101003090, 102138595, 103310312, 104517818, 105760687,\n",
              "       107038495, 108350818, 109697230, 111077307, 112490624, 113936757,\n",
              "       115415281, 116925772, 118467804, 120040954, 121644796, 123278905,\n",
              "       124942858, 126636230, 128358596, 130109530, 131888610, 133695410,\n",
              "       135529505, 137390470, 139277882, 141191315, 143130345, 145094548,\n",
              "       147083498, 149096770, 151133941, 153194586, 155278280, 157384598,\n",
              "       159513115, 161663408, 163835051, 166027620, 168240690, 170473837,\n",
              "       172726636, 174998661, 177289490, 179598696, 181925856, 184270544,\n",
              "       186632336, 189010808, 191405535, 193816091, 196242053, 198682996,\n",
              "       201138495, 203608126, 206091463, 208588083, 211097561, 213619471,\n",
              "       216153390, 218698893, 221255554, 223822950, 226400656, 228988247,\n",
              "       231585299, 234191386, 236806085, 239428970, 242059617, 244697602,\n",
              "       247342499, 249993884, 252651333, 255314420, 257982722, 260655813,\n",
              "       263333269, 266014665, 268699577, 271387579, 274078248, 276771159,\n",
              "       279465886, 282162006, 284859093, 287556724, 290254473, 292951916,\n",
              "       295648628, 298344185, 301038161, 303730133, 306419675, 309106364,\n",
              "       311789773, 314469480, 317145058, 319816084, 322482132, 325142779,\n",
              "       327797599, 330446168, 333088062, 335722854, 338350122, 340969440,\n",
              "       343580384, 346182529, 348775450, 351358722, 353931922, 356494625,\n",
              "       359046405, 361586838, 364115500, 366631966, 369135811, 371626610,\n",
              "       374103940, 376567375, 379016490, 381450862, 383870065, 386273675,\n",
              "       388661267, 391032416, 393386699, 395723689, 398042964, 400344097,\n",
              "       402626664, 404890241, 407134403, 409358725, 411562784, 413746153,\n",
              "       415908409, 418049126, 420167881, 422264248, 424337803, 426388122,\n",
              "       428414779, 430417350, 432395410, 434348535, 436276300, 438178281,\n",
              "       440054052, 441903190, 443725269, 445519865, 447286553])"
            ]
          },
          "metadata": {},
          "execution_count": 15
        }
      ],
      "source": [
        "df_show2=numpy.array([round(x) for x in df_show])\n",
        "#df3= pd.DataFrame(df_show2)\n",
        "#filepath=\"population.xlsx\"\n",
        "#df3.to_excel(filepath,index=False)\n",
        "df_show2"
      ]
    },
    {
      "cell_type": "code",
      "execution_count": null,
      "metadata": {
        "colab": {
          "base_uri": "https://localhost:8080/",
          "height": 243
        },
        "id": "uLpPjldDSQcE",
        "outputId": "411b0494-d6a1-4f77-92d6-ca3544dbcade"
      },
      "outputs": [
        {
          "output_type": "error",
          "ename": "IndexError",
          "evalue": "ignored",
          "traceback": [
            "\u001b[0;31m---------------------------------------------------------------------------\u001b[0m",
            "\u001b[0;31mIndexError\u001b[0m                                Traceback (most recent call last)",
            "\u001b[0;32m<ipython-input-29-0a50fe3978bb>\u001b[0m in \u001b[0;36m<module>\u001b[0;34m\u001b[0m\n\u001b[1;32m      1\u001b[0m \u001b[0mdf_consumption\u001b[0m \u001b[0;34m=\u001b[0m \u001b[0mpd\u001b[0m\u001b[0;34m.\u001b[0m\u001b[0mread_excel\u001b[0m\u001b[0;34m(\u001b[0m\u001b[0;34m\"/content/drive/MyDrive/Food Inspection/Food Research 2022.08.28.xlsx\"\u001b[0m\u001b[0;34m,\u001b[0m \u001b[0msheet_name\u001b[0m \u001b[0;34m=\u001b[0m \u001b[0;34m\"3. Food Consumption\"\u001b[0m\u001b[0;34m)\u001b[0m\u001b[0;34m\u001b[0m\u001b[0;34m\u001b[0m\u001b[0m\n\u001b[0;32m----> 2\u001b[0;31m \u001b[0mbeef_2019\u001b[0m\u001b[0;34m=\u001b[0m \u001b[0mdf_consumption\u001b[0m\u001b[0;34m.\u001b[0m\u001b[0mloc\u001b[0m\u001b[0;34m[\u001b[0m\u001b[0;34m(\u001b[0m\u001b[0mdf_consumption\u001b[0m\u001b[0;34m[\u001b[0m\u001b[0;34m'Year'\u001b[0m\u001b[0;34m]\u001b[0m\u001b[0;34m==\u001b[0m\u001b[0;36m2019\u001b[0m\u001b[0;34m)\u001b[0m \u001b[0;34m&\u001b[0m \u001b[0;34m(\u001b[0m\u001b[0mdf_consumption\u001b[0m\u001b[0;34m[\u001b[0m\u001b[0;34m'Tab name'\u001b[0m\u001b[0;34m]\u001b[0m\u001b[0;34m==\u001b[0m\u001b[0;34m'Beef'\u001b[0m\u001b[0;34m)\u001b[0m\u001b[0;34m]\u001b[0m\u001b[0;34m[\u001b[0m\u001b[0;34m'Consumer Weight in kg'\u001b[0m\u001b[0;34m]\u001b[0m\u001b[0;34m.\u001b[0m\u001b[0mvalues\u001b[0m\u001b[0;34m[\u001b[0m\u001b[0;36m1\u001b[0m\u001b[0;34m]\u001b[0m\u001b[0;34m\u001b[0m\u001b[0;34m\u001b[0m\u001b[0m\n\u001b[0m\u001b[1;32m      3\u001b[0m \u001b[0mvege_2019\u001b[0m\u001b[0;34m=\u001b[0m \u001b[0mdf_consumption\u001b[0m\u001b[0;34m.\u001b[0m\u001b[0mloc\u001b[0m\u001b[0;34m[\u001b[0m\u001b[0;34m(\u001b[0m\u001b[0mdf_consumption\u001b[0m\u001b[0;34m[\u001b[0m\u001b[0;34m'Year'\u001b[0m\u001b[0;34m]\u001b[0m\u001b[0;34m==\u001b[0m\u001b[0;36m2018\u001b[0m\u001b[0;34m)\u001b[0m \u001b[0;34m&\u001b[0m \u001b[0;34m(\u001b[0m\u001b[0mdf_consumption\u001b[0m\u001b[0;34m[\u001b[0m\u001b[0;34m'Tab name'\u001b[0m\u001b[0;34m]\u001b[0m\u001b[0;34m==\u001b[0m\u001b[0;34m'Total Vegetables'\u001b[0m\u001b[0;34m)\u001b[0m\u001b[0;34m]\u001b[0m\u001b[0;34m[\u001b[0m\u001b[0;34m'Consumer Weight in kg'\u001b[0m\u001b[0;34m]\u001b[0m\u001b[0;34m.\u001b[0m\u001b[0mvalues\u001b[0m\u001b[0;34m[\u001b[0m\u001b[0;36m1\u001b[0m\u001b[0;34m]\u001b[0m\u001b[0;34m\u001b[0m\u001b[0;34m\u001b[0m\u001b[0m\n\u001b[1;32m      4\u001b[0m \u001b[0;34m\u001b[0m\u001b[0m\n\u001b[1;32m      5\u001b[0m \u001b[0;31m# print(beef_2019, vege_2019)\u001b[0m\u001b[0;34m\u001b[0m\u001b[0;34m\u001b[0m\u001b[0;34m\u001b[0m\u001b[0m\n",
            "\u001b[0;31mIndexError\u001b[0m: index 1 is out of bounds for axis 0 with size 1"
          ]
        }
      ],
      "source": [
        "df_consumption = pd.read_excel(\"/content/drive/MyDrive/Food Inspection/Food Research 2022.08.28.xlsx\", sheet_name = \"3. Food Consumption\")\n",
        "beef_2019= df_consumption.loc[(df_consumption['Year']==2019) & (df_consumption['Tab name']=='Beef')]['Consumer Weight in kg'].values[0]\n",
        "vege_2019= df_consumption.loc[(df_consumption['Year']==2018) & (df_consumption['Tab name']=='Total Vegetables')]['Consumer Weight in kg'].values[0]\n",
        "\n",
        "# print(beef_2019, vege_2019)\n",
        "\n",
        "# calculate how many millions of tons of CO2 can be produced by food consumption\n",
        "total_emission = 0\n",
        "emission_per_year=numpy.arange(1970, 2019)\n",
        "df_yearline = numpy.linspace(1970, 2018, 49)\n",
        "for i in range(1970, 2019):\n",
        "    emission_per_year[i-1970] = 0\n",
        "    for t in df_CO2['Type of Food']:\n",
        "        #print(t)\n",
        "        food_consumped_this_year = df_consumption.loc[(df_consumption['Year']==i) & (df_consumption['Tab name']==t)]['Consumer Weight in kg'].values[0]\n",
        "        footprint= df_CO2[df_CO2['Type of Food']==t]['Updated CO2 Emission'].values[0]\n",
        "        #print(i,t, food_consumped_this_year, food_consumped_this_year*footprint)\n",
        "        food_emission = food_consumped_this_year*footprint*round(df_show2[i-1910])/1000000\n",
        "        emission_per_year[i-1970] = emission_per_year[i-1970] + food_emission\n",
        "    #print(i, df_yearline[i-1970], emission_per_year[i-1970])\n",
        "\n",
        "print( df_yearline.shape, emission_per_year.shape )\n",
        "plt.plot(df_yearline, emission_per_year)\n",
        "plt.show()"
      ]
    },
    {
      "cell_type": "code",
      "execution_count": null,
      "metadata": {
        "colab": {
          "base_uri": "https://localhost:8080/",
          "height": 243
        },
        "id": "l3r37i3zSQcF",
        "outputId": "c0a2add5-fc35-45da-e4c2-69020371e564"
      },
      "outputs": [
        {
          "output_type": "error",
          "ename": "IndexError",
          "evalue": "ignored",
          "traceback": [
            "\u001b[0;31m---------------------------------------------------------------------------\u001b[0m",
            "\u001b[0;31mIndexError\u001b[0m                                Traceback (most recent call last)",
            "\u001b[0;32m<ipython-input-31-fec53f2b073c>\u001b[0m in \u001b[0;36m<module>\u001b[0;34m\u001b[0m\n\u001b[1;32m     10\u001b[0m     \u001b[0;31m#print (df_show2[i-1910])\u001b[0m\u001b[0;34m\u001b[0m\u001b[0;34m\u001b[0m\u001b[0;34m\u001b[0m\u001b[0m\n\u001b[1;32m     11\u001b[0m     \u001b[0;32mfor\u001b[0m \u001b[0mt\u001b[0m \u001b[0;32min\u001b[0m \u001b[0mdf_CO2\u001b[0m\u001b[0;34m[\u001b[0m\u001b[0;34m'Type of Food'\u001b[0m\u001b[0;34m]\u001b[0m\u001b[0;34m:\u001b[0m\u001b[0;34m\u001b[0m\u001b[0;34m\u001b[0m\u001b[0m\n\u001b[0;32m---> 12\u001b[0;31m         \u001b[0mfood_consumped_this_year\u001b[0m \u001b[0;34m=\u001b[0m \u001b[0mdf_consumption\u001b[0m\u001b[0;34m.\u001b[0m\u001b[0mloc\u001b[0m\u001b[0;34m[\u001b[0m\u001b[0;34m(\u001b[0m\u001b[0mdf_consumption\u001b[0m\u001b[0;34m[\u001b[0m\u001b[0;34m'Year'\u001b[0m\u001b[0;34m]\u001b[0m\u001b[0;34m==\u001b[0m\u001b[0mi\u001b[0m\u001b[0;34m)\u001b[0m \u001b[0;34m&\u001b[0m \u001b[0;34m(\u001b[0m\u001b[0mdf_consumption\u001b[0m\u001b[0;34m[\u001b[0m\u001b[0;34m'Tab name'\u001b[0m\u001b[0;34m]\u001b[0m\u001b[0;34m==\u001b[0m\u001b[0mt\u001b[0m\u001b[0;34m)\u001b[0m\u001b[0;34m]\u001b[0m\u001b[0;34m[\u001b[0m\u001b[0;34m'Consumer Weight in kg'\u001b[0m\u001b[0;34m]\u001b[0m\u001b[0;34m.\u001b[0m\u001b[0mvalues\u001b[0m\u001b[0;34m[\u001b[0m\u001b[0;36m0\u001b[0m\u001b[0;34m]\u001b[0m\u001b[0;34m\u001b[0m\u001b[0;34m\u001b[0m\u001b[0m\n\u001b[0m\u001b[1;32m     13\u001b[0m         \u001b[0mfootprint\u001b[0m\u001b[0;34m=\u001b[0m \u001b[0mdf_CO2\u001b[0m\u001b[0;34m[\u001b[0m\u001b[0mdf_CO2\u001b[0m\u001b[0;34m[\u001b[0m\u001b[0;34m'Type of Food'\u001b[0m\u001b[0;34m]\u001b[0m\u001b[0;34m==\u001b[0m\u001b[0mt\u001b[0m\u001b[0;34m]\u001b[0m\u001b[0;34m[\u001b[0m\u001b[0;34m'Updated CO2 Emission'\u001b[0m\u001b[0;34m]\u001b[0m\u001b[0;34m.\u001b[0m\u001b[0mvalues\u001b[0m\u001b[0;34m[\u001b[0m\u001b[0;36m0\u001b[0m\u001b[0;34m]\u001b[0m\u001b[0;34m\u001b[0m\u001b[0;34m\u001b[0m\u001b[0m\n\u001b[1;32m     14\u001b[0m         \u001b[0;32mif\u001b[0m \u001b[0mt\u001b[0m \u001b[0;34m==\u001b[0m \u001b[0;34m'Beef'\u001b[0m\u001b[0;34m:\u001b[0m\u001b[0;34m\u001b[0m\u001b[0;34m\u001b[0m\u001b[0m\n",
            "\u001b[0;31mIndexError\u001b[0m: index 0 is out of bounds for axis 0 with size 0"
          ]
        }
      ],
      "source": [
        "sum1 = 0\n",
        "sum2 = 0\n",
        "sum_veg = 0\n",
        "emission_new=numpy.arange(1970,2019)\n",
        "emission_chicken = numpy.arange(1970,2019)\n",
        "for i in range(1970, 2019):\n",
        "    emission_new[i-1970] = 0\n",
        "    emission_chicken[i-1970] = 0\n",
        "    pop = df_show2[i-1910]\n",
        "    #print (df_show2[i-1910])\n",
        "    for t in df_CO2['Type of Food']:\n",
        "        food_consumped_this_year = df_consumption.loc[(df_consumption['Year']==i) & (df_consumption['Tab name']==t)]['Consumer Weight in kg'].values[0]\n",
        "        footprint= df_CO2[df_CO2['Type of Food']==t]['Updated CO2 Emission'].values[0]\n",
        "        if t == 'Beef':\n",
        "            # sum1 = sum1 + beef_2019*pop*beef_footprint\n",
        "             sum2 = sum2 + 0.5*food_consumped_this_year*beef_footprint + 0.5*food_consumped_this_year*pop*chick_footprint\n",
        "            # sum_veg = sum_veg + 0.5*beef_2019*pop*beef_footprint + 0.5*vege_2019*pop*vege_footprint\n",
        "             food_emission = 0.5*food_consumped_this_year*footprint*round(df_show2[i-1910])/1000000\n",
        "             food_emiss_chicken = 0.5*food_consumped_this_year*footprint*round(df_show2[i-1910])/1000000\n",
        "        else:\n",
        "             food_emission = food_consumped_this_year*footprint*round(df_show2[i-1910])/1000000\n",
        "        emission_new[i-1970] = emission_new[i-1970] + food_emission\n",
        "\n",
        "plt.plot(df_yearline, emission_new, color=\"blue\", label='reduce beef consumption by 50%')\n",
        "plt.plot(df_yearline, emission_per_year, color=\"green\", label='actual consumption')\n",
        "plt.legend()\n",
        "plt.show()\n",
        "\n",
        "#print ((sum1-sum2)/1000,(sum1-sum_veg)/1000)\n",
        "#print((sum1-sum2)/sum1)\n",
        "#print((sum1-sum_veg)/sum1)"
      ]
    },
    {
      "cell_type": "code",
      "execution_count": null,
      "metadata": {
        "colab": {
          "base_uri": "https://localhost:8080/"
        },
        "id": "KQ3FdNS8SQcH",
        "outputId": "6bd15328-2030-49cc-d343-be8e74afc2fa"
      },
      "outputs": [
        {
          "output_type": "stream",
          "name": "stdout",
          "text": [
            "26436443380709.027\n",
            "14529679753118.885\n",
            "0.4503920386007235\n"
          ]
        }
      ],
      "source": [
        "sum3 = 0\n",
        "sum4 = 0\n",
        "for i in range(2020, 2050):\n",
        "    pop = df_show2[i-1910]\n",
        "    #print (df_show2[i-1910])\n",
        "    sum3 = sum3 + beef_2019*pop*beef_footprint\n",
        "    sum4 = sum4 + 0.5*beef_2019*pop*beef_footprint + 0.5*beef_2019*pop*chick_footprint\n",
        "print(sum3)\n",
        "print(sum4)\n",
        "print((sum3-sum4)/sum3)"
      ]
    },
    {
      "cell_type": "code",
      "execution_count": null,
      "metadata": {
        "colab": {
          "base_uri": "https://localhost:8080/"
        },
        "id": "wArCVsTfSQcI",
        "outputId": "29762f66-0ee2-4540-a4cf-e007a6ea76a7"
      },
      "outputs": [
        {
          "output_type": "stream",
          "name": "stdout",
          "text": [
            "2382.3939515052307\n",
            "1073.0112685684746\n"
          ]
        }
      ],
      "source": [
        "# A typical passenger vehicle emits about 4.6 metric tons of carbon dioxide per year.\n",
        "print(beef_2019*beef_footprint)\n",
        "print(0.5*beef_2019*beef_footprint-0.5*beef_2019*chick_footprint)\n",
        "# A typical tree can absorb around 21 kilograms of carbon dioxide (CO2) per year"
      ]
    },
    {
      "cell_type": "code",
      "execution_count": null,
      "metadata": {
        "colab": {
          "base_uri": "https://localhost:8080/",
          "height": 610
        },
        "id": "-miSzkJBSQcJ",
        "outputId": "30ae8681-f5a0-41c6-ed71-c4f0432eb282"
      },
      "outputs": [
        {
          "output_type": "display_data",
          "data": {
            "text/plain": [
              "<Figure size 432x288 with 1 Axes>"
            ],
            "image/png": "[encoded data removed]"
          },
          "metadata": {
            "needs_background": "light"
          }
        },
        {
          "output_type": "stream",
          "name": "stdout",
          "text": [
            "[24.06957487 24.18783445 24.30331709 24.41608798 24.52621082 24.63374778\n",
            " 24.73875958 24.84130552 24.9414435  25.03923006 25.13472042 25.22796849\n",
            " 25.31902694 25.40794717 25.49477939 25.57957265 25.6623748  25.74323262\n",
            " 25.82219175 25.89929678 25.97459125 26.04811767 26.11991755 26.19003146\n",
            " 26.25849896 26.32535872 26.3906485  26.45440516 26.51666469 26.57746227]\n",
            "[34.6294798  34.34707087 34.90070692 32.94848574 35.0294369  36.07372129\n",
            " 38.51526256 37.45935447 35.65131485 31.89520069 31.26481955 31.57109554\n",
            " 31.45287082 32.13252392 32.0309361  32.34456174 32.25950583 30.17095331\n",
            " 29.74500274 28.26009987 27.71848057 27.28276227 27.07814796 26.46225177\n",
            " 27.28884036 27.56238074 27.77136231 27.16930955 27.57413353 27.90794178\n",
            " 28.00210903 27.38148184 27.98585021 26.87213052 27.33741434 27.1017582\n",
            " 27.23131254 26.94819346 25.76039601 25.1960159  24.58571776 23.60585022\n",
            " 23.65657529 23.24334348 22.35987272 22.30173718 22.95666308 23.55086575\n",
            " 23.64411053 23.94847157 24.06957487 24.18783445 24.30331709 24.41608798\n",
            " 24.52621082 24.63374778 24.73875958 24.84130552 24.9414435  25.03923006\n",
            " 25.13472042 25.22796849 25.31902694 25.40794717 25.49477939 25.57957265\n",
            " 25.6623748  25.74323262 25.82219175 25.89929678 25.97459125 26.04811767\n",
            " 26.11991755 26.19003146 26.25849896 26.32535872 26.3906485  26.45440516\n",
            " 26.51666469 26.57746227]\n"
          ]
        }
      ],
      "source": [
        "import statsmodels.api as sm\n",
        "\n",
        "# Food Consumption Prediction\n",
        "df_consumption = pd.read_excel(\"/content/drive/MyDrive/Food Inspection/Food Research 2022.08.28.xlsx\", sheet_name = \"3. Food Consumption\")\n",
        "# 1970 - 2019\n",
        "beefs = df_consumption.loc[df_consumption['Tab name']=='Beef']['Consumer Weight in kg']\n",
        "poultries = df_consumption.loc[df_consumption['Tab name']=='Poultry']['Consumer Weight in kg']\n",
        "beef_list = beefs.to_numpy()\n",
        "chicken_list = poultries.to_numpy()\n",
        "# plot the eating habit change from 1970 to 2020\n",
        "yearline = numpy.linspace(1970, 2020,50)\n",
        "plt.plot(yearline, beef_list, color=\"green\", label='beef consumption')\n",
        "plt.plot(yearline, chicken_list, color=\"yellow\", label='chicken consumption')\n",
        "plt.legend()\n",
        "plt.show()\n",
        "\n",
        "mod = sm.tsa.SARIMAX(beef_list, order=(1, 0, 0), trend='c')\n",
        "# Estimate the parameters\n",
        "res = mod.fit()\n",
        "\n",
        "# forcast the beef consumption in the next 20 years\n",
        "print(res.forecast(steps=30))\n",
        "\n",
        "future = res.forecast(steps=30)\n",
        "beef_long_list = numpy.concatenate((beef_list, future), axis=None)\n",
        "print(beef_long_list)"
      ]
    },
    {
      "cell_type": "code",
      "execution_count": null,
      "metadata": {
        "colab": {
          "base_uri": "https://localhost:8080/",
          "height": 771
        },
        "id": "cIXDoGvxSQcL",
        "outputId": "ef8a09be-910a-4e76-86c1-4c40e421a382"
      },
      "outputs": [
        {
          "output_type": "stream",
          "name": "stderr",
          "text": [
            "/usr/local/lib/python3.8/dist-packages/statsmodels/tsa/ar_model.py:248: FutureWarning: The parameter names will change after 0.12 is released. Set old_names to False to use the new names now. Set old_names to True to use the old names. \n",
            "  warnings.warn(\n"
          ]
        },
        {
          "output_type": "stream",
          "name": "stdout",
          "text": [
            "[23.90630511 23.86563512 23.82640848 23.78857397 23.75208219 23.71688547\n",
            " 23.68293787 23.65019505 23.61861425 23.58815424 23.55877523 23.53043887\n",
            " 23.50310815 23.47674737 23.45132213 23.42679922 23.4031466  23.38033341\n",
            " 23.35832984 23.33710717 23.31663767 23.29689463 23.27785225 23.25948568\n",
            " 23.24177093 23.22468486 23.20820517 23.19231033 23.17697959 23.16219293]\n",
            "[34.93759323 35.25572493 35.57105708 35.8836143  36.19342103 36.50050146\n",
            " 36.80487959 37.10657919 37.40562383 37.70203689 37.99584152 38.28706066\n",
            " 38.57571709 38.86183333 39.14543176 39.42653453 39.70516359 39.98134072\n",
            " 40.25508749 40.5264253  40.79537533 41.06195861 41.32619596 41.58810802\n",
            " 41.84771526 42.10503795 42.36009621 42.61290996 42.86349895 43.11188276]\n",
            "[34.6294798  34.34707087 34.90070692 32.94848574 35.0294369  36.07372129\n",
            " 38.51526256 37.45935447 35.65131485 31.89520069 31.26481955 31.57109554\n",
            " 31.45287082 32.13252392 32.0309361  32.34456174 32.25950583 30.17095331\n",
            " 29.74500274 28.26009987 27.71848057 27.28276227 27.07814796 26.46225177\n",
            " 27.28884036 27.56238074 27.77136231 27.16930955 27.57413353 27.90794178\n",
            " 28.00210903 27.38148184 27.98585021 26.87213052 27.33741434 27.1017582\n",
            " 27.23131254 26.94819346 25.76039601 25.1960159  24.58571776 23.60585022\n",
            " 23.65657529 23.24334348 22.35987272 22.30173718 22.95666308 23.55086575\n",
            " 23.64411053 23.94847157 23.90630511 23.42817901 22.95961543 22.50042312\n",
            " 22.05041466 21.60940637 21.17721824 20.75367387 20.3386004  19.93182839\n",
            " 19.53319182 19.14252798 18.75967742 18.38448388 18.0167942  17.65645831\n",
            " 17.30332915 16.95726256 16.61811731 16.28575497 15.96003987 15.64083907\n",
            " 15.32802229 15.02146184 14.72103261 14.42661195 14.13807972 13.85531812\n",
            " 13.57821176 13.30664752]\n"
          ]
        },
        {
          "output_type": "display_data",
          "data": {
            "text/plain": [
              "<Figure size 432x288 with 1 Axes>"
            ],
            "image/png": "[encoded data removed]"
          },
          "metadata": {
            "needs_background": "light"
          }
        }
      ],
      "source": [
        "from statsmodels.tsa.ar_model import AutoReg\n",
        "from random import random\n",
        "# contrived dataset\n",
        "def forcast_30_years(data):\n",
        "    # fit model for beef\n",
        "    model = AutoReg(data, lags=1)\n",
        "    model_fit = model.fit()\n",
        "    # make prediction\n",
        "    yhat = model_fit.predict(len(data), len(data))\n",
        "    yhat_list = model_fit.forecast(steps=30)\n",
        "    print(yhat_list)\n",
        "    long_list = numpy.concatenate((data, yhat_list), axis=None)\n",
        "    return long_list\n",
        "\n",
        "# fit mode \n",
        "x = numpy.linspace(1970, 2050,80)\n",
        "beef_long_list = forcast_30_years(beef_list)\n",
        "chicken_long_list = forcast_30_years(chicken_list)\n",
        "\n",
        "# construct a beef_long_list where the beef consumption is reduced by 50%\n",
        "new_beef_list = numpy.zeros(80)\n",
        "for i in range(0,80):\n",
        "    if i < 50:\n",
        "        new_beef_list[i]=beef_long_list[i]\n",
        "    else:\n",
        "        new_beef_list[i]=beef_long_list[50]*pow(0.98,i-50)\n",
        "plt.plot(x, beef_long_list, color=\"green\",label='beef consumption')\n",
        "plt.plot(x, chicken_long_list, color=\"yellow\", label='chick consumption')\n",
        "plt.plot(x, new_beef_list, color=\"blue\", label='reduced beef consumption')\n",
        "print(new_beef_list)\n",
        "\n",
        "plt.legend()\n",
        "plt.xlabel('year')\n",
        "plt.ylabel('consumption in pounds')\n",
        "plt.show()\n"
      ]
    },
    {
      "cell_type": "code",
      "execution_count": null,
      "metadata": {
        "colab": {
          "base_uri": "https://localhost:8080/"
        },
        "id": "b-FQfhHZSQcM",
        "outputId": "96cb1bd2-1c7d-4171-beba-5888011879d8"
      },
      "outputs": [
        {
          "output_type": "stream",
          "name": "stdout",
          "text": [
            "estimated CO2 emission caused by beef consumption over the next 30 years 29723 million tons\n",
            "estimated CO2 emission that we can be acheive by gradually replacing beef with chicken in the next 30 years 24097 million tons\n",
            "5626.553031310766\n",
            "this amount of CO2 emission reduction would be quivalent to planting 18 trees \n"
          ]
        }
      ],
      "source": [
        "# calculate reduced carbone emission\n",
        "# diet change: beef_long_list, new_beef_list chicken_long_list\n",
        "# population change: df_show\n",
        "df_show2=numpy.array([round(x) for x in df_show])\n",
        "# carbon emission \n",
        "old_sum = 0\n",
        "new_sum = 0\n",
        "chick_2020 = chicken_long_list[2020-1970]\n",
        "for i in range(2020, 2050):\n",
        "     pop = df_show2[i-1910]\n",
        "     beef_consumed = beef_long_list[i-1970]\n",
        "     reduce_beef = new_beef_list[i-1970]\n",
        "     chick_consumed = chicken_long_list[i-1970]\n",
        "     old_sum = old_sum + beef_footprint*beef_consumed*pop + chick_footprint*chick_2020*pop\n",
        "     new_sum = new_sum + beef_footprint*reduce_beef*pop + chick_footprint*chick_consumed*pop\n",
        "\n",
        "print('estimated CO2 emission caused by beef consumption over the next 30 years %d million tons' % (old_sum/1000000000))\n",
        "print('estimated CO2 emission that we can be acheive by gradually replacing beef with chicken in the next 30 years %d million tons' % (new_sum/1000000000))\n",
        "print((old_sum - new_sum)/1000000000)\n",
        "\n",
        "# in one year a mature tree will absorb more than 48 pounds of carbon dioxide from the atmosphere and release oxygen in exchange\n",
        "# A tree absorbs approximately 25kg of CO2 per year\n",
        "t=(old_sum - new_sum)/pop\n",
        "print('this amount of CO2 emission reduction would be quivalent to planting %d trees ' % (t/(25*30) ))"
      ]
    },
    {
      "cell_type": "code",
      "execution_count": null,
      "metadata": {
        "colab": {
          "base_uri": "https://localhost:8080/",
          "height": 771
        },
        "id": "6MqiqGinSQcN",
        "outputId": "55abd0e8-3c29-494d-bde4-44ab82e15b9b"
      },
      "outputs": [
        {
          "output_type": "stream",
          "name": "stderr",
          "text": [
            "/usr/local/lib/python3.8/dist-packages/statsmodels/tsa/ar_model.py:248: FutureWarning: The parameter names will change after 0.12 is released. Set old_names to False to use the new names now. Set old_names to True to use the old names. \n",
            "  warnings.warn(\n"
          ]
        },
        {
          "output_type": "stream",
          "name": "stdout",
          "text": [
            "[52.71340277 52.62372544 52.5372307  52.45380561 52.37334122 52.29573247\n",
            " 52.22087801 52.14868009 52.07904443 52.01188009 51.94709938 51.8846177\n",
            " 51.82435346 51.76622796 51.7101653  51.65609227 51.60393826 51.55363517\n",
            " 51.5051173  51.4583213  51.41318607 51.36965265 51.32766422 51.28716592\n",
            " 51.24810489 51.21043011 51.17409239 51.13904427 51.10523999 51.0726354 ]\n",
            "[77.03739307 77.73887347 78.43418086 79.12336954 79.80649337 80.48360572\n",
            " 81.15475949 81.82000711 82.47940055 83.13299134 83.78083054 84.42296876\n",
            " 85.05945617 85.6903425  86.31567703 86.93550863 87.54988572 88.15885629\n",
            " 88.76246792 89.36076778 89.95380261 90.54161874 91.12426209 91.70177818\n",
            " 92.27421214 92.84160869 93.40401215 93.96146647 94.51401519 95.06170149]\n",
            "[76.35800296 75.73529127 76.95605876 72.65141107 77.23990836 79.54255544\n",
            " 84.92615394 82.5978766  78.61114923 70.32891752 68.93892712 69.61426566\n",
            " 69.35358016 70.85221524 70.6282141  71.31975863 71.13221035 66.52695205\n",
            " 65.58773104 62.31352022 61.11924965 60.15849081 59.70731625 58.34926515\n",
            " 60.17189299 60.77504953 61.2358539  59.90832755 60.80096442 61.53701162\n",
            " 61.74465041 60.37616746 61.70879972 59.2530478  60.27899862 59.75937683\n",
            " 60.04504416 59.42076658 56.8016732  55.55721507 54.21150767 52.05089974\n",
            " 52.16274851 51.25157237 49.30351934 49.17533049 50.61944209 51.92965897\n",
            " 52.13526372 52.80637981 52.71340277 51.65913472 50.62595202 49.61343298\n",
            " 48.62116432 47.64874103 46.69576621 45.76185089 44.84661387 43.94968159\n",
            " 43.07068796 42.2092742  41.36508872 40.53778695 39.72703121 38.93249058\n",
            " 38.15384077 37.39076396 36.64294868 35.9100897  35.19188791 34.48805015\n",
            " 33.79828915 33.12232336 32.4598769  31.81067936 31.17446577 30.55097646\n",
            " 29.93995693 29.34115779]\n"
          ]
        },
        {
          "output_type": "display_data",
          "data": {
            "text/plain": [
              "<Figure size 432x288 with 1 Axes>"
            ],
            "image/png": "[encoded data removed]"
          },
          "metadata": {
            "needs_background": "light"
          }
        }
      ],
      "source": [
        "import statsmodels\n",
        "from statsmodels.tsa.ar_model import AutoReg\n",
        "from random import random\n",
        "import statsmodels.api as sm\n",
        "\n",
        "# contrived dataset\n",
        "def forcast_30_years(data):\n",
        "    # fit model for beef\n",
        "    model = AutoReg(data, lags=1)\n",
        "    model_fit = model.fit()\n",
        "    # make prediction\n",
        "    yhat = model_fit.predict(len(data), len(data))\n",
        "    yhat_list = model_fit.forecast(steps=30)\n",
        "    print(yhat_list)\n",
        "    long_list = numpy.concatenate((data, yhat_list), axis=None)\n",
        "    return long_list\n",
        "\n",
        "# read beef and chicken consumption in pounds\n",
        "\n",
        "df_consumption = pd.read_excel(\"/content/drive/MyDrive/Food Inspection/Food Research 2022.08.28.xlsx\", sheet_name = \"3. Food Consumption\")\n",
        "# 1970 - 2019\n",
        "beefs = df_consumption.loc[df_consumption['Tab name']=='Beef']['Consumer Weight in Pounds']\n",
        "poultries = df_consumption.loc[df_consumption['Tab name']=='Poultry']['Consumer Weight in Pounds']\n",
        "beef_list = beefs.to_numpy()\n",
        "chicken_list = poultries.to_numpy()\n",
        "# fit mode \n",
        "x = numpy.linspace(1970, 2050,80)\n",
        "beef_long_list = forcast_30_years(beef_list)\n",
        "chicken_long_list = forcast_30_years(chicken_list)\n",
        "\n",
        "# construct a beef_long_list where the beef consumption is reduced by 50%\n",
        "new_beef_list = numpy.zeros(80)\n",
        "for i in range(0,80):\n",
        "    if i < 50:\n",
        "        new_beef_list[i]=beef_long_list[i]\n",
        "    else:\n",
        "        new_beef_list[i]=beef_long_list[50]*pow(0.98,i-50)\n",
        "plt.plot(x, beef_long_list, color=\"green\",label='beef consumption')\n",
        "plt.plot(x, chicken_long_list, color=\"yellow\", label='chick consumption')\n",
        "plt.plot(x, new_beef_list, color=\"blue\", label='reduced beef consumption')\n",
        "print(new_beef_list)\n",
        "\n",
        "plt.legend()\n",
        "plt.xlabel('year')\n",
        "plt.ylabel('consumption in pounds')\n",
        "plt.show()"
      ]
    },
    {
      "cell_type": "code",
      "execution_count": null,
      "metadata": {
        "colab": {
          "base_uri": "https://localhost:8080/",
          "height": 751
        },
        "id": "y1-3taFzSQcO",
        "outputId": "b372f446-9422-4c48-a96a-c6b7b10f6860"
      },
      "outputs": [
        {
          "output_type": "stream",
          "name": "stdout",
          "text": [
            "[32.48570916 32.66604407 34.04372831 32.40281636 32.52344672 31.65010853\n",
            " 34.13543896 34.5150653  35.81926988 38.57122835 39.19387847 40.42645896\n",
            " 40.5863846  41.07883061 42.26001104 43.76091527 45.5302211  49.05951753\n",
            " 49.9385441  51.49492271 54.13647133 55.96686218 58.21080755 59.60663893\n",
            " 60.23608312 59.70230705 60.54243058 61.19004471 61.86674295 64.79489318\n",
            " 65.27422667 65.20680532 68.04369752 68.58089017 69.95765955 70.84834032\n",
            " 71.35624091 70.85059579 69.80602764 66.71723054 68.19472808 68.26650604\n",
            " 66.56718945 67.56934092 68.48879852 72.26244835 73.31912825 74.0207395\n",
            " 74.80510882 76.32968484 77.03739307 77.73887347 78.43418086 79.12336954\n",
            " 79.80649337 80.48360572 81.15475949 81.82000711 82.47940055 83.13299134\n",
            " 83.78083054 84.42296876 85.05945617 85.6903425  86.31567703 86.93550863\n",
            " 87.54988572 88.15885629 88.76246792 89.36076778 89.95380261 90.54161874\n",
            " 91.12426209 91.70177818 92.27421214 92.84160869 93.40401215 93.96146647\n",
            " 94.51401519 95.06170149]\n",
            "[3591 3563 3624 3423 3630 3730 3985 3881 3707 3346 3286 3322 3311 3381\n",
            " 3376 3414 3413 3221 3183 3042 3000 2965 2954 2899 2984 3009 3034 2977\n",
            " 3020 3066 3078 3016 3089 2980 3033 3013 3028 2998 2875 2805 2751 2654\n",
            " 2651 2615 2531 2542 2612 2674 2687 2724 2723 2722 2721 2721 2720 2720\n",
            " 2719 2719 2719 2719 2719 2719 2719 2719 2719 2720 2720 2721 2721 2722\n",
            " 2722 2723 2724 2724 2725 2726 2727 2728 2729 2730]\n",
            "[3591 3563 3624 3423 3630 3730 3985 3881 3707 3346 3286 3322 3311 3381\n",
            " 3376 3414 3413 3221 3183 3042 3000 2965 2954 2899 2984 3009 3034 2977\n",
            " 3020 3066 3078 3016 3089 2980 3033 3013 3028 2998 2875 2805 2751 2654\n",
            " 2651 2615 2531 2542 2612 2674 2687 2724 2723 2679 2635 2593 2551 2510\n",
            " 2470 2431 2392 2355 2318 2282 2247 2212 2179 2146 2113 2081 2050 2020\n",
            " 1990 1961 1933 1905 1877 1851 1824 1799 1774 1749]\n"
          ]
        },
        {
          "output_type": "display_data",
          "data": {
            "text/plain": [
              "<Figure size 432x288 with 1 Axes>"
            ],
            "image/png": "[encoded data removed]"
          },
          "metadata": {
            "needs_background": "light"
          }
        }
      ],
      "source": [
        "\n",
        "# carbon emission \n",
        "old_sum = 0\n",
        "new_sum = 0\n",
        "chick_2020 = chicken_long_list[2020-1970]\n",
        "emission_list = numpy.arange(1970,2050)\n",
        "new_emission_list = numpy.arange(1970,2050)\n",
        "beef_emission_list = numpy.arange(1970,2050)\n",
        "chick_emission_list = numpy.arange(1970,2050)\n",
        "poundtokg = 0.4536\n",
        "for i in range(1970, 2050):\n",
        "     beef_consumed = beef_long_list[i-1970]\n",
        "     reduce_beef = new_beef_list[i-1970]\n",
        "     chick_consumed = chicken_long_list[i-1970]\n",
        "     emission_list[i-1970] =  (beef_footprint*beef_consumed + chick_footprint*chick_consumed)*poundtokg;\n",
        "     new_emission_list[i-1970] = (beef_footprint*reduce_beef + chick_footprint*chick_consumed)*poundtokg;\n",
        "     beef_emission_list[i-1970] = beef_footprint*beef_consumed*poundtokg;\n",
        "     chick_emission_list[i-1970] = chick_footprint*chick_consumed*poundtokg\n",
        "    \n",
        "\n",
        "plt.plot(x, emission_list, color=\"green\",label='projected emission per consumer')\n",
        "plt.plot(x, new_emission_list, color=\"yellow\", label='reduced emission per consumer')\n",
        "plt.plot(x, beef_emission_list, color=\"blue\", label='projected  emission by beef per consumer')\n",
        "plt.plot(x, chick_emission_list, color=\"black\", label='projected  emission by chick per consumer')\n",
        "\n",
        "print(chicken_long_list)\n",
        "print(emission_list)\n",
        "print(new_emission_list)\n",
        "\n",
        "plt.legend()\n",
        "plt.xlabel('year')\n",
        "plt.ylabel('emission per consumer')\n",
        "plt.show()"
      ]
    },
    {
      "cell_type": "code",
      "execution_count": null,
      "metadata": {
        "id": "OIrbBBZUSQcO"
      },
      "outputs": [],
      "source": []
    }
  ],
  "metadata": {
    "kernelspec": {
      "display_name": "Python 3",
      "language": "python",
      "name": "python3"
    },
    "language_info": {
      "codemirror_mode": {
        "name": "ipython",
        "version": 3
      },
      "file_extension": ".py",
      "mimetype": "text/x-python",
      "name": "python",
      "nbconvert_exporter": "python",
      "pygments_lexer": "ipython3",
      "version": "3.8.5"
    },
    "colab": {
      "provenance": [],
      "include_colab_link": true
    }
  },
  "nbformat": 4,
  "nbformat_minor": 0
}