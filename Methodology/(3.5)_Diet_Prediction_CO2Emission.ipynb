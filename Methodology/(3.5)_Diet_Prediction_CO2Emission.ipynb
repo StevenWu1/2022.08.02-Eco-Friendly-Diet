{
 "cells": [
  {
   "cell_type": "code",
   "execution_count": 2,
   "metadata": {
    "colab": {
     "base_uri": "https://localhost:8080/"
    },
    "id": "_jQgHGY5SQb0",
    "outputId": "24703ccf-450c-4846-bcf7-d1ddb7ab3ad5"
   },
   "outputs": [],
   "source": [
    "import pandas as pd\n",
    "import numpy\n",
    "import matplotlib.pyplot as plt\n",
    "\n",
    "df_CO2 = pd.read_excel(\"Food Research 2022.08.28.xlsx\")"
   ]
  },
  {
   "cell_type": "code",
   "execution_count": 3,
   "metadata": {
    "colab": {
     "base_uri": "https://localhost:8080/"
    },
    "id": "xNuxQmLeSQb9",
    "outputId": "14074a3f-8a44-4657-8e57-971f08605835"
   },
   "outputs": [
    {
     "name": "stdout",
     "output_type": "stream",
     "text": [
      "99.48 9.87 0.53\n"
     ]
    },
    {
     "data": {
      "text/plain": [
       "0                 Beef\n",
       "1                 Pork\n",
       "2              Poultry\n",
       "3                 Lamb\n",
       "4                 Fish\n",
       "5               Shrimp\n",
       "6               Cheese\n",
       "7                 Eggs\n",
       "8                 Milk\n",
       "9                Wheat\n",
       "10        Total Fruits\n",
       "11    Total Vegetables\n",
       "12            Tomatoes\n",
       "13                Peas\n",
       "14            Potatoes\n",
       "15              Onions\n",
       "16             Berries\n",
       "17             Bananas\n",
       "18        Citrus Fruit\n",
       "19              Apples\n",
       "20              Coffee\n",
       "Name: Type of Food, dtype: object"
      ]
     },
     "execution_count": 3,
     "metadata": {},
     "output_type": "execute_result"
    }
   ],
   "source": [
    "df_CO2['Type of Food']\n",
    "beef_footprint= df_CO2[df_CO2['Type of Food']=='Beef']['Updated CO2 Emission'].values[0]\n",
    "chick_footprint= df_CO2[df_CO2['Type of Food']=='Poultry']['Updated CO2 Emission'].values[0]\n",
    "vege_footprint= df_CO2[df_CO2['Type of Food']=='Total Vegetables']['Updated CO2 Emission'].values[0]\n",
    "print (beef_footprint, chick_footprint, vege_footprint)\n",
    "\n",
    "df_CO2['Type of Food']"
   ]
  },
  {
   "cell_type": "code",
   "execution_count": 4,
   "metadata": {
    "colab": {
     "base_uri": "https://localhost:8080/",
     "height": 1000
    },
    "id": "MyUBT159SQb_",
    "outputId": "fcd85c77-043d-4a6a-dd90-8f0d76ac8af1"
   },
   "outputs": [
    {
     "data": {
      "image/png": "[encoded data removed]",
      "text/plain": [
       "<Figure size 432x288 with 1 Axes>"
      ]
     },
     "metadata": {
      "needs_background": "light"
     },
     "output_type": "display_data"
    },
    {
     "name": "stdout",
     "output_type": "stream",
     "text": [
      "Year: 1910.0 Population: 94104186.0\n",
      "Year: 1911.0 Population: 94974311.0\n",
      "Year: 1912.0 Population: 95883622.0\n",
      "Year: 1913.0 Population: 96831693.0\n",
      "Year: 1914.0 Population: 97818100.0\n",
      "Year: 1915.0 Population: 98842418.0\n",
      "Year: 1916.0 Population: 99904223.0\n",
      "Year: 1917.0 Population: 101003090.0\n",
      "Year: 1918.0 Population: 102138595.0\n",
      "Year: 1919.0 Population: 103310312.0\n",
      "Year: 1920.0 Population: 104517818.0\n",
      "Year: 1921.0 Population: 105760687.0\n",
      "Year: 1922.0 Population: 107038495.0\n",
      "Year: 1923.0 Population: 108350818.0\n",
      "Year: 1924.0 Population: 109697230.0\n",
      "Year: 1925.0 Population: 111077307.0\n",
      "Year: 1926.0 Population: 112490624.0\n",
      "Year: 1927.0 Population: 113936757.0\n",
      "Year: 1928.0 Population: 115415281.0\n",
      "Year: 1929.0 Population: 116925772.0\n",
      "Year: 1930.0 Population: 118467804.0\n",
      "Year: 1931.0 Population: 120040954.0\n",
      "Year: 1932.0 Population: 121644796.0\n",
      "Year: 1933.0 Population: 123278905.0\n",
      "Year: 1934.0 Population: 124942858.0\n",
      "Year: 1935.0 Population: 126636230.0\n",
      "Year: 1936.0 Population: 128358596.0\n",
      "Year: 1937.0 Population: 130109530.0\n",
      "Year: 1938.0 Population: 131888610.0\n",
      "Year: 1939.0 Population: 133695410.0\n",
      "Year: 1940.0 Population: 135529505.0\n",
      "Year: 1941.0 Population: 137390470.0\n",
      "Year: 1942.0 Population: 139277882.0\n",
      "Year: 1943.0 Population: 141191315.0\n",
      "Year: 1944.0 Population: 143130345.0\n",
      "Year: 1945.0 Population: 145094548.0\n",
      "Year: 1946.0 Population: 147083498.0\n",
      "Year: 1947.0 Population: 149096770.0\n",
      "Year: 1948.0 Population: 151133941.0\n",
      "Year: 1949.0 Population: 153194586.0\n",
      "Year: 1950.0 Population: 155278280.0\n",
      "Year: 1951.0 Population: 157384598.0\n",
      "Year: 1952.0 Population: 159513115.0\n",
      "Year: 1953.0 Population: 161663408.0\n",
      "Year: 1954.0 Population: 163835051.0\n",
      "Year: 1955.0 Population: 166027620.0\n",
      "Year: 1956.0 Population: 168240690.0\n",
      "Year: 1957.0 Population: 170473837.0\n",
      "Year: 1958.0 Population: 172726636.0\n",
      "Year: 1959.0 Population: 174998661.0\n",
      "Year: 1960.0 Population: 177289490.0\n",
      "Year: 1961.0 Population: 179598696.0\n",
      "Year: 1962.0 Population: 181925856.0\n",
      "Year: 1963.0 Population: 184270544.0\n",
      "Year: 1964.0 Population: 186632336.0\n",
      "Year: 1965.0 Population: 189010808.0\n",
      "Year: 1966.0 Population: 191405535.0\n",
      "Year: 1967.0 Population: 193816091.0\n",
      "Year: 1968.0 Population: 196242053.0\n",
      "Year: 1969.0 Population: 198682996.0\n",
      "Year: 1970.0 Population: 201138495.0\n",
      "Year: 1971.0 Population: 203608126.0\n",
      "Year: 1972.0 Population: 206091463.0\n",
      "Year: 1973.0 Population: 208588083.0\n",
      "Year: 1974.0 Population: 211097561.0\n",
      "Year: 1975.0 Population: 213619471.0\n",
      "Year: 1976.0 Population: 216153390.0\n",
      "Year: 1977.0 Population: 218698893.0\n",
      "Year: 1978.0 Population: 221255554.0\n",
      "Year: 1979.0 Population: 223822950.0\n",
      "Year: 1980.0 Population: 226400656.0\n",
      "Year: 1981.0 Population: 228988247.0\n",
      "Year: 1982.0 Population: 231585299.0\n",
      "Year: 1983.0 Population: 234191386.0\n",
      "Year: 1984.0 Population: 236806085.0\n",
      "Year: 1985.0 Population: 239428970.0\n",
      "Year: 1986.0 Population: 242059617.0\n",
      "Year: 1987.0 Population: 244697602.0\n",
      "Year: 1988.0 Population: 247342499.0\n",
      "Year: 1989.0 Population: 249993884.0\n",
      "Year: 1990.0 Population: 252651333.0\n",
      "Year: 1991.0 Population: 255314420.0\n",
      "Year: 1992.0 Population: 257982722.0\n",
      "Year: 1993.0 Population: 260655813.0\n",
      "Year: 1994.0 Population: 263333269.0\n",
      "Year: 1995.0 Population: 266014665.0\n",
      "Year: 1996.0 Population: 268699577.0\n",
      "Year: 1997.0 Population: 271387579.0\n",
      "Year: 1998.0 Population: 274078248.0\n",
      "Year: 1999.0 Population: 276771159.0\n",
      "Year: 2000.0 Population: 279465886.0\n",
      "Year: 2001.0 Population: 282162006.0\n",
      "Year: 2002.0 Population: 284859093.0\n",
      "Year: 2003.0 Population: 287556724.0\n",
      "Year: 2004.0 Population: 290254473.0\n",
      "Year: 2005.0 Population: 292951916.0\n",
      "Year: 2006.0 Population: 295648628.0\n",
      "Year: 2007.0 Population: 298344185.0\n",
      "Year: 2008.0 Population: 301038161.0\n",
      "Year: 2009.0 Population: 303730133.0\n",
      "Year: 2010.0 Population: 306419675.0\n",
      "Year: 2011.0 Population: 309106364.0\n",
      "Year: 2012.0 Population: 311789773.0\n",
      "Year: 2013.0 Population: 314469480.0\n",
      "Year: 2014.0 Population: 317145058.0\n",
      "Year: 2015.0 Population: 319816084.0\n",
      "Year: 2016.0 Population: 322482132.0\n",
      "Year: 2017.0 Population: 325142779.0\n",
      "Year: 2018.0 Population: 327797599.0\n",
      "Year: 2019.0 Population: 330446168.0\n",
      "Year: 2020.0 Population: 333088062.0\n",
      "Year: 2021.0 Population: 335722854.0\n",
      "Year: 2022.0 Population: 338350122.0\n",
      "Year: 2023.0 Population: 340969440.0\n",
      "Year: 2024.0 Population: 343580384.0\n",
      "Year: 2025.0 Population: 346182529.0\n",
      "Year: 2026.0 Population: 348775450.0\n",
      "Year: 2027.0 Population: 351358722.0\n",
      "Year: 2028.0 Population: 353931922.0\n",
      "Year: 2029.0 Population: 356494625.0\n",
      "Year: 2030.0 Population: 359046405.0\n",
      "Year: 2031.0 Population: 361586838.0\n",
      "Year: 2032.0 Population: 364115500.0\n",
      "Year: 2033.0 Population: 366631966.0\n",
      "Year: 2034.0 Population: 369135811.0\n",
      "Year: 2035.0 Population: 371626610.0\n",
      "Year: 2036.0 Population: 374103940.0\n",
      "Year: 2037.0 Population: 376567375.0\n",
      "Year: 2038.0 Population: 379016490.0\n",
      "Year: 2039.0 Population: 381450862.0\n",
      "Year: 2040.0 Population: 383870065.0\n",
      "Year: 2041.0 Population: 386273675.0\n",
      "Year: 2042.0 Population: 388661267.0\n",
      "Year: 2043.0 Population: 391032416.0\n",
      "Year: 2044.0 Population: 393386699.0\n",
      "Year: 2045.0 Population: 395723689.0\n",
      "Year: 2046.0 Population: 398042964.0\n",
      "Year: 2047.0 Population: 400344097.0\n",
      "Year: 2048.0 Population: 402626664.0\n",
      "Year: 2049.0 Population: 404890241.0\n",
      "Year: 2050.0 Population: 407134403.0\n",
      "Year: 2051.0 Population: 409358725.0\n",
      "Year: 2052.0 Population: 411562784.0\n",
      "Year: 2053.0 Population: 413746153.0\n",
      "Year: 2054.0 Population: 415908409.0\n",
      "Year: 2055.0 Population: 418049126.0\n",
      "Year: 2056.0 Population: 420167881.0\n",
      "Year: 2057.0 Population: 422264248.0\n",
      "Year: 2058.0 Population: 424337803.0\n",
      "Year: 2059.0 Population: 426388122.0\n",
      "Year: 2060.0 Population: 428414779.0\n",
      "Year: 2061.0 Population: 430417350.0\n",
      "Year: 2062.0 Population: 432395410.0\n",
      "Year: 2063.0 Population: 434348535.0\n",
      "Year: 2064.0 Population: 436276300.0\n",
      "Year: 2065.0 Population: 438178281.0\n",
      "Year: 2066.0 Population: 440054052.0\n",
      "Year: 2067.0 Population: 441903190.0\n",
      "Year: 2068.0 Population: 443725269.0\n",
      "Year: 2069.0 Population: 445519865.0\n",
      "Year: 2070.0 Population: 447286553.0\n"
     ]
    }
   ],
   "source": [
    "# Trend over time (+population + time)\n",
    "df_pop = pd.read_excel(\"Food Research 2022.08.28.xlsx\", sheet_name = \"4. Population\")\n",
    "df_popX = df_pop['Year']\n",
    "df_popY = df_pop['Population']\n",
    "df_popY = df_popY.dropna()\n",
    "df_popX = df_popX.dropna()\n",
    "df_popgraph = numpy.poly1d(numpy.polyfit(df_popX, df_popY,3))\n",
    "\n",
    "df_popline = numpy.linspace(1910, 2070, 161)\n",
    "plt.scatter(df_popX, df_popY)\n",
    "plt.plot(df_popline, df_popgraph(df_popline))\n",
    "plt.show()\n",
    "df_show = df_popgraph(df_popline)\n",
    "for i in range(0, len(df_show)):\n",
    "  print(\"Year:\", df_popline[i], \"Population:\", round(df_show[i]))\n"
   ]
  },
  {
   "cell_type": "code",
   "execution_count": 5,
   "metadata": {
    "colab": {
     "base_uri": "https://localhost:8080/"
    },
    "id": "QC_fwgZySQcC",
    "outputId": "4167017b-b15e-4092-adb2-e63ff314cf26"
   },
   "outputs": [
    {
     "data": {
      "text/plain": [
       "array([9.41041860e+07, 9.49743110e+07, 9.58836220e+07, 9.68316930e+07,\n",
       "       9.78181000e+07, 9.88424180e+07, 9.99042230e+07, 1.01003090e+08,\n",
       "       1.02138595e+08, 1.03310312e+08, 1.04517818e+08, 1.05760687e+08,\n",
       "       1.07038495e+08, 1.08350818e+08, 1.09697230e+08, 1.11077307e+08,\n",
       "       1.12490624e+08, 1.13936757e+08, 1.15415281e+08, 1.16925772e+08,\n",
       "       1.18467804e+08, 1.20040954e+08, 1.21644796e+08, 1.23278905e+08,\n",
       "       1.24942858e+08, 1.26636230e+08, 1.28358596e+08, 1.30109530e+08,\n",
       "       1.31888610e+08, 1.33695410e+08, 1.35529505e+08, 1.37390470e+08,\n",
       "       1.39277882e+08, 1.41191315e+08, 1.43130345e+08, 1.45094548e+08,\n",
       "       1.47083498e+08, 1.49096770e+08, 1.51133941e+08, 1.53194586e+08,\n",
       "       1.55278280e+08, 1.57384598e+08, 1.59513115e+08, 1.61663408e+08,\n",
       "       1.63835051e+08, 1.66027620e+08, 1.68240690e+08, 1.70473837e+08,\n",
       "       1.72726636e+08, 1.74998661e+08, 1.77289490e+08, 1.79598696e+08,\n",
       "       1.81925856e+08, 1.84270544e+08, 1.86632336e+08, 1.89010808e+08,\n",
       "       1.91405535e+08, 1.93816091e+08, 1.96242053e+08, 1.98682996e+08,\n",
       "       2.01138495e+08, 2.03608126e+08, 2.06091463e+08, 2.08588083e+08,\n",
       "       2.11097561e+08, 2.13619471e+08, 2.16153390e+08, 2.18698893e+08,\n",
       "       2.21255554e+08, 2.23822950e+08, 2.26400656e+08, 2.28988247e+08,\n",
       "       2.31585299e+08, 2.34191386e+08, 2.36806085e+08, 2.39428970e+08,\n",
       "       2.42059617e+08, 2.44697602e+08, 2.47342499e+08, 2.49993884e+08,\n",
       "       2.52651333e+08, 2.55314420e+08, 2.57982722e+08, 2.60655813e+08,\n",
       "       2.63333269e+08, 2.66014665e+08, 2.68699577e+08, 2.71387579e+08,\n",
       "       2.74078248e+08, 2.76771159e+08, 2.79465886e+08, 2.82162006e+08,\n",
       "       2.84859093e+08, 2.87556724e+08, 2.90254473e+08, 2.92951916e+08,\n",
       "       2.95648628e+08, 2.98344185e+08, 3.01038161e+08, 3.03730133e+08,\n",
       "       3.06419675e+08, 3.09106364e+08, 3.11789773e+08, 3.14469480e+08,\n",
       "       3.17145058e+08, 3.19816084e+08, 3.22482132e+08, 3.25142779e+08,\n",
       "       3.27797599e+08, 3.30446168e+08, 3.33088062e+08, 3.35722854e+08,\n",
       "       3.38350122e+08, 3.40969440e+08, 3.43580384e+08, 3.46182529e+08,\n",
       "       3.48775450e+08, 3.51358722e+08, 3.53931922e+08, 3.56494625e+08,\n",
       "       3.59046405e+08, 3.61586838e+08, 3.64115500e+08, 3.66631966e+08,\n",
       "       3.69135811e+08, 3.71626610e+08, 3.74103940e+08, 3.76567375e+08,\n",
       "       3.79016490e+08, 3.81450862e+08, 3.83870065e+08, 3.86273675e+08,\n",
       "       3.88661267e+08, 3.91032416e+08, 3.93386699e+08, 3.95723689e+08,\n",
       "       3.98042964e+08, 4.00344097e+08, 4.02626664e+08, 4.04890241e+08,\n",
       "       4.07134403e+08, 4.09358725e+08, 4.11562784e+08, 4.13746153e+08,\n",
       "       4.15908409e+08, 4.18049126e+08, 4.20167881e+08, 4.22264248e+08,\n",
       "       4.24337803e+08, 4.26388122e+08, 4.28414779e+08, 4.30417350e+08,\n",
       "       4.32395410e+08, 4.34348535e+08, 4.36276300e+08, 4.38178281e+08,\n",
       "       4.40054052e+08, 4.41903190e+08, 4.43725269e+08, 4.45519865e+08,\n",
       "       4.47286553e+08])"
      ]
     },
     "execution_count": 5,
     "metadata": {},
     "output_type": "execute_result"
    }
   ],
   "source": [
    "df_show2=numpy.array([round(x) for x in df_show])\n",
    "#df3= pd.DataFrame(df_show2)\n",
    "#filepath=\"population.xlsx\"\n",
    "#df3.to_excel(filepath,index=False)\n",
    "df_show2"
   ]
  },
  {
   "cell_type": "code",
   "execution_count": 6,
   "metadata": {
    "colab": {
     "base_uri": "https://localhost:8080/",
     "height": 243
    },
    "id": "uLpPjldDSQcE",
    "outputId": "411b0494-d6a1-4f77-92d6-ca3544dbcade"
   },
   "outputs": [
    {
     "ename": "IndexError",
     "evalue": "index 0 is out of bounds for axis 0 with size 0",
     "output_type": "error",
     "traceback": [
      "\u001b[1;31m---------------------------------------------------------------------------\u001b[0m",
      "\u001b[1;31mIndexError\u001b[0m                                Traceback (most recent call last)",
      "\u001b[1;32m<ipython-input-6-a794938a7dee>\u001b[0m in \u001b[0;36m<module>\u001b[1;34m\u001b[0m\n\u001b[0;32m     13\u001b[0m     \u001b[1;32mfor\u001b[0m \u001b[0mt\u001b[0m \u001b[1;32min\u001b[0m \u001b[0mdf_CO2\u001b[0m\u001b[1;33m[\u001b[0m\u001b[1;34m'Type of Food'\u001b[0m\u001b[1;33m]\u001b[0m\u001b[1;33m:\u001b[0m\u001b[1;33m\u001b[0m\u001b[1;33m\u001b[0m\u001b[0m\n\u001b[0;32m     14\u001b[0m         \u001b[1;31m#print(t)\u001b[0m\u001b[1;33m\u001b[0m\u001b[1;33m\u001b[0m\u001b[1;33m\u001b[0m\u001b[0m\n\u001b[1;32m---> 15\u001b[1;33m         \u001b[0mfood_consumped_this_year\u001b[0m \u001b[1;33m=\u001b[0m \u001b[0mdf_consumption\u001b[0m\u001b[1;33m.\u001b[0m\u001b[0mloc\u001b[0m\u001b[1;33m[\u001b[0m\u001b[1;33m(\u001b[0m\u001b[0mdf_consumption\u001b[0m\u001b[1;33m[\u001b[0m\u001b[1;34m'Year'\u001b[0m\u001b[1;33m]\u001b[0m\u001b[1;33m==\u001b[0m\u001b[0mi\u001b[0m\u001b[1;33m)\u001b[0m \u001b[1;33m&\u001b[0m \u001b[1;33m(\u001b[0m\u001b[0mdf_consumption\u001b[0m\u001b[1;33m[\u001b[0m\u001b[1;34m'Tab name'\u001b[0m\u001b[1;33m]\u001b[0m\u001b[1;33m==\u001b[0m\u001b[0mt\u001b[0m\u001b[1;33m)\u001b[0m\u001b[1;33m]\u001b[0m\u001b[1;33m[\u001b[0m\u001b[1;34m'Consumer Weight in kg'\u001b[0m\u001b[1;33m]\u001b[0m\u001b[1;33m.\u001b[0m\u001b[0mvalues\u001b[0m\u001b[1;33m[\u001b[0m\u001b[1;36m0\u001b[0m\u001b[1;33m]\u001b[0m\u001b[1;33m\u001b[0m\u001b[1;33m\u001b[0m\u001b[0m\n\u001b[0m\u001b[0;32m     16\u001b[0m         \u001b[0mfootprint\u001b[0m\u001b[1;33m=\u001b[0m \u001b[0mdf_CO2\u001b[0m\u001b[1;33m[\u001b[0m\u001b[0mdf_CO2\u001b[0m\u001b[1;33m[\u001b[0m\u001b[1;34m'Type of Food'\u001b[0m\u001b[1;33m]\u001b[0m\u001b[1;33m==\u001b[0m\u001b[0mt\u001b[0m\u001b[1;33m]\u001b[0m\u001b[1;33m[\u001b[0m\u001b[1;34m'Updated CO2 Emission'\u001b[0m\u001b[1;33m]\u001b[0m\u001b[1;33m.\u001b[0m\u001b[0mvalues\u001b[0m\u001b[1;33m[\u001b[0m\u001b[1;36m0\u001b[0m\u001b[1;33m]\u001b[0m\u001b[1;33m\u001b[0m\u001b[1;33m\u001b[0m\u001b[0m\n\u001b[0;32m     17\u001b[0m         \u001b[1;31m#print(i,t, food_consumped_this_year, food_consumped_this_year*footprint)\u001b[0m\u001b[1;33m\u001b[0m\u001b[1;33m\u001b[0m\u001b[1;33m\u001b[0m\u001b[0m\n",
      "\u001b[1;31mIndexError\u001b[0m: index 0 is out of bounds for axis 0 with size 0"
     ]
    }
   ],
   "source": [
    "df_consumption = pd.read_excel(\"Food Research 2022.08.28.xlsx\", sheet_name = \"3. Food Consumption\")\n",
    "beef_2019= df_consumption.loc[(df_consumption['Year']==2019) & (df_consumption['Tab name']=='Beef')]['Consumer Weight in kg'].values[0]\n",
    "vege_2019= df_consumption.loc[(df_consumption['Year']==2018) & (df_consumption['Tab name']=='Total Vegetables')]['Consumer Weight in kg'].values[0]\n",
    "\n",
    "# print(beef_2019, vege_2019)\n",
    "\n",
    "# calculate how many millions of tons of CO2 can be produced by food consumption\n",
    "total_emission = 0\n",
    "emission_per_year=numpy.arange(1970, 2019)\n",
    "df_yearline = numpy.linspace(1970, 2018, 49)\n",
    "for i in range(1970, 2019):\n",
    "    emission_per_year[i-1970] = 0\n",
    "    for t in df_CO2['Type of Food']:\n",
    "        #print(t)\n",
    "        food_consumped_this_year = df_consumption.loc[(df_consumption['Year']==i) & (df_consumption['Tab name']==t)]['Consumer Weight in kg'].values[0]\n",
    "        footprint= df_CO2[df_CO2['Type of Food']==t]['Updated CO2 Emission'].values[0]\n",
    "        #print(i,t, food_consumped_this_year, food_consumped_this_year*footprint)\n",
    "        food_emission = food_consumped_this_year*footprint*round(df_show2[i-1910])/1000000\n",
    "        emission_per_year[i-1970] = emission_per_year[i-1970] + food_emission\n",
    "    #print(i, df_yearline[i-1970], emission_per_year[i-1970])\n",
    "\n",
    "print( df_yearline.shape, emission_per_year.shape )\n",
    "plt.plot(df_yearline, emission_per_year)\n",
    "plt.show()"
   ]
  },
  {
   "cell_type": "code",
   "execution_count": 7,
   "metadata": {
    "colab": {
     "base_uri": "https://localhost:8080/",
     "height": 243
    },
    "id": "l3r37i3zSQcF",
    "outputId": "c0a2add5-fc35-45da-e4c2-69020371e564"
   },
   "outputs": [
    {
     "ename": "IndexError",
     "evalue": "index 0 is out of bounds for axis 0 with size 0",
     "output_type": "error",
     "traceback": [
      "\u001b[1;31m---------------------------------------------------------------------------\u001b[0m",
      "\u001b[1;31mIndexError\u001b[0m                                Traceback (most recent call last)",
      "\u001b[1;32m<ipython-input-7-fec53f2b073c>\u001b[0m in \u001b[0;36m<module>\u001b[1;34m\u001b[0m\n\u001b[0;32m     10\u001b[0m     \u001b[1;31m#print (df_show2[i-1910])\u001b[0m\u001b[1;33m\u001b[0m\u001b[1;33m\u001b[0m\u001b[1;33m\u001b[0m\u001b[0m\n\u001b[0;32m     11\u001b[0m     \u001b[1;32mfor\u001b[0m \u001b[0mt\u001b[0m \u001b[1;32min\u001b[0m \u001b[0mdf_CO2\u001b[0m\u001b[1;33m[\u001b[0m\u001b[1;34m'Type of Food'\u001b[0m\u001b[1;33m]\u001b[0m\u001b[1;33m:\u001b[0m\u001b[1;33m\u001b[0m\u001b[1;33m\u001b[0m\u001b[0m\n\u001b[1;32m---> 12\u001b[1;33m         \u001b[0mfood_consumped_this_year\u001b[0m \u001b[1;33m=\u001b[0m \u001b[0mdf_consumption\u001b[0m\u001b[1;33m.\u001b[0m\u001b[0mloc\u001b[0m\u001b[1;33m[\u001b[0m\u001b[1;33m(\u001b[0m\u001b[0mdf_consumption\u001b[0m\u001b[1;33m[\u001b[0m\u001b[1;34m'Year'\u001b[0m\u001b[1;33m]\u001b[0m\u001b[1;33m==\u001b[0m\u001b[0mi\u001b[0m\u001b[1;33m)\u001b[0m \u001b[1;33m&\u001b[0m \u001b[1;33m(\u001b[0m\u001b[0mdf_consumption\u001b[0m\u001b[1;33m[\u001b[0m\u001b[1;34m'Tab name'\u001b[0m\u001b[1;33m]\u001b[0m\u001b[1;33m==\u001b[0m\u001b[0mt\u001b[0m\u001b[1;33m)\u001b[0m\u001b[1;33m]\u001b[0m\u001b[1;33m[\u001b[0m\u001b[1;34m'Consumer Weight in kg'\u001b[0m\u001b[1;33m]\u001b[0m\u001b[1;33m.\u001b[0m\u001b[0mvalues\u001b[0m\u001b[1;33m[\u001b[0m\u001b[1;36m0\u001b[0m\u001b[1;33m]\u001b[0m\u001b[1;33m\u001b[0m\u001b[1;33m\u001b[0m\u001b[0m\n\u001b[0m\u001b[0;32m     13\u001b[0m         \u001b[0mfootprint\u001b[0m\u001b[1;33m=\u001b[0m \u001b[0mdf_CO2\u001b[0m\u001b[1;33m[\u001b[0m\u001b[0mdf_CO2\u001b[0m\u001b[1;33m[\u001b[0m\u001b[1;34m'Type of Food'\u001b[0m\u001b[1;33m]\u001b[0m\u001b[1;33m==\u001b[0m\u001b[0mt\u001b[0m\u001b[1;33m]\u001b[0m\u001b[1;33m[\u001b[0m\u001b[1;34m'Updated CO2 Emission'\u001b[0m\u001b[1;33m]\u001b[0m\u001b[1;33m.\u001b[0m\u001b[0mvalues\u001b[0m\u001b[1;33m[\u001b[0m\u001b[1;36m0\u001b[0m\u001b[1;33m]\u001b[0m\u001b[1;33m\u001b[0m\u001b[1;33m\u001b[0m\u001b[0m\n\u001b[0;32m     14\u001b[0m         \u001b[1;32mif\u001b[0m \u001b[0mt\u001b[0m \u001b[1;33m==\u001b[0m \u001b[1;34m'Beef'\u001b[0m\u001b[1;33m:\u001b[0m\u001b[1;33m\u001b[0m\u001b[1;33m\u001b[0m\u001b[0m\n",
      "\u001b[1;31mIndexError\u001b[0m: index 0 is out of bounds for axis 0 with size 0"
     ]
    }
   ],
   "source": [
    "sum1 = 0\n",
    "sum2 = 0\n",
    "sum_veg = 0\n",
    "emission_new=numpy.arange(1970,2019)\n",
    "emission_chicken = numpy.arange(1970,2019)\n",
    "for i in range(1970, 2019):\n",
    "    emission_new[i-1970] = 0\n",
    "    emission_chicken[i-1970] = 0\n",
    "    pop = df_show2[i-1910]\n",
    "    #print (df_show2[i-1910])\n",
    "    for t in df_CO2['Type of Food']:\n",
    "        food_consumped_this_year = df_consumption.loc[(df_consumption['Year']==i) & (df_consumption['Tab name']==t)]['Consumer Weight in kg'].values[0]\n",
    "        footprint= df_CO2[df_CO2['Type of Food']==t]['Updated CO2 Emission'].values[0]\n",
    "        if t == 'Beef':\n",
    "            # sum1 = sum1 + beef_2019*pop*beef_footprint\n",
    "             sum2 = sum2 + 0.5*food_consumped_this_year*beef_footprint + 0.5*food_consumped_this_year*pop*chick_footprint\n",
    "            # sum_veg = sum_veg + 0.5*beef_2019*pop*beef_footprint + 0.5*vege_2019*pop*vege_footprint\n",
    "             food_emission = 0.5*food_consumped_this_year*footprint*round(df_show2[i-1910])/1000000\n",
    "             food_emiss_chicken = 0.5*food_consumped_this_year*footprint*round(df_show2[i-1910])/1000000\n",
    "        else:\n",
    "             food_emission = food_consumped_this_year*footprint*round(df_show2[i-1910])/1000000\n",
    "        emission_new[i-1970] = emission_new[i-1970] + food_emission\n",
    "\n",
    "plt.plot(df_yearline, emission_new, color=\"blue\", label='reduce beef consumption by 50%')\n",
    "plt.plot(df_yearline, emission_per_year, color=\"green\", label='actual consumption')\n",
    "plt.legend()\n",
    "plt.show()\n",
    "\n",
    "#print ((sum1-sum2)/1000,(sum1-sum_veg)/1000)\n",
    "#print((sum1-sum2)/sum1)\n",
    "#print((sum1-sum_veg)/sum1)"
   ]
  },
  {
   "cell_type": "code",
   "execution_count": 8,
   "metadata": {
    "colab": {
     "base_uri": "https://localhost:8080/"
    },
    "id": "KQ3FdNS8SQcH",
    "outputId": "6bd15328-2030-49cc-d343-be8e74afc2fa"
   },
   "outputs": [
    {
     "name": "stdout",
     "output_type": "stream",
     "text": [
      "26436443380709.027\n",
      "14529679753118.885\n",
      "0.4503920386007235\n"
     ]
    }
   ],
   "source": [
    "sum3 = 0\n",
    "sum4 = 0\n",
    "for i in range(2020, 2050):\n",
    "    pop = df_show2[i-1910]\n",
    "    #print (df_show2[i-1910])\n",
    "    sum3 = sum3 + beef_2019*pop*beef_footprint\n",
    "    sum4 = sum4 + 0.5*beef_2019*pop*beef_footprint + 0.5*beef_2019*pop*chick_footprint\n",
    "print(sum3)\n",
    "print(sum4)\n",
    "print((sum3-sum4)/sum3)"
   ]
  },
  {
   "cell_type": "code",
   "execution_count": 9,
   "metadata": {
    "colab": {
     "base_uri": "https://localhost:8080/"
    },
    "id": "wArCVsTfSQcI",
    "outputId": "29762f66-0ee2-4540-a4cf-e007a6ea76a7"
   },
   "outputs": [
    {
     "name": "stdout",
     "output_type": "stream",
     "text": [
      "2382.3939515052307\n",
      "1073.0112685684746\n"
     ]
    }
   ],
   "source": [
    "# A typical passenger vehicle emits about 4.6 metric tons of carbon dioxide per year.\n",
    "print(beef_2019*beef_footprint)\n",
    "print(0.5*beef_2019*beef_footprint-0.5*beef_2019*chick_footprint)\n",
    "# A typical tree can absorb around 21 kilograms of carbon dioxide (CO2) per year"
   ]
  },
  {
   "cell_type": "code",
   "execution_count": 10,
   "metadata": {
    "colab": {
     "base_uri": "https://localhost:8080/",
     "height": 610
    },
    "id": "-miSzkJBSQcJ",
    "outputId": "30ae8681-f5a0-41c6-ed71-c4f0432eb282"
   },
   "outputs": [
    {
     "data": {
      "image/png": "[encoded data removed]",
      "text/plain": [
       "<Figure size 432x288 with 1 Axes>"
      ]
     },
     "metadata": {
      "needs_background": "light"
     },
     "output_type": "display_data"
    },
    {
     "name": "stdout",
     "output_type": "stream",
     "text": [
      "[24.06957487 24.18783445 24.30331709 24.41608799 24.52621083 24.63374779\n",
      " 24.73875959 24.84130553 24.94144351 25.03923007 25.13472043 25.2279685\n",
      " 25.31902695 25.40794718 25.49477941 25.57957266 25.66237482 25.74323263\n",
      " 25.82219176 25.89929679 25.97459126 26.04811768 26.11991757 26.19003147\n",
      " 26.25849897 26.32535874 26.39064851 26.45440517 26.51666471 26.57746229]\n",
      "[34.6294798  34.34707087 34.90070692 32.94848574 35.0294369  36.07372129\n",
      " 38.51526256 37.45935447 35.65131485 31.89520069 31.26481955 31.57109554\n",
      " 31.45287082 32.13252392 32.0309361  32.34456174 32.25950583 30.17095331\n",
      " 29.74500274 28.26009987 27.71848057 27.28276227 27.07814796 26.46225177\n",
      " 27.28884036 27.56238074 27.77136231 27.16930955 27.57413353 27.90794178\n",
      " 28.00210903 27.38148184 27.98585021 26.87213052 27.33741434 27.1017582\n",
      " 27.23131254 26.94819346 25.76039601 25.1960159  24.58571776 23.60585022\n",
      " 23.65657529 23.24334348 22.35987272 22.30173718 22.95666308 23.55086575\n",
      " 23.64411053 23.94847157 24.06957487 24.18783445 24.30331709 24.41608799\n",
      " 24.52621083 24.63374779 24.73875959 24.84130553 24.94144351 25.03923007\n",
      " 25.13472043 25.2279685  25.31902695 25.40794718 25.49477941 25.57957266\n",
      " 25.66237482 25.74323263 25.82219176 25.89929679 25.97459126 26.04811768\n",
      " 26.11991757 26.19003147 26.25849897 26.32535874 26.39064851 26.45440517\n",
      " 26.51666471 26.57746229]\n"
     ]
    }
   ],
   "source": [
    "import statsmodels.api as sm\n",
    "\n",
    "# Food Consumption Prediction\n",
    "df_consumption = pd.read_excel(\"Food Research 2022.08.28.xlsx\", sheet_name = \"3. Food Consumption\")\n",
    "# 1970 - 2019\n",
    "beefs = df_consumption.loc[df_consumption['Tab name']=='Beef']['Consumer Weight in kg']\n",
    "poultries = df_consumption.loc[df_consumption['Tab name']=='Poultry']['Consumer Weight in kg']\n",
    "beef_list = beefs.to_numpy()\n",
    "chicken_list = poultries.to_numpy()\n",
    "# plot the eating habit change from 1970 to 2020\n",
    "yearline = numpy.linspace(1970, 2020,50)\n",
    "plt.plot(yearline, beef_list, color=\"green\", label='beef consumption')\n",
    "plt.plot(yearline, chicken_list, color=\"yellow\", label='chicken consumption')\n",
    "plt.legend()\n",
    "plt.show()\n",
    "\n",
    "mod = sm.tsa.SARIMAX(beef_list, order=(1, 0, 0), trend='c')\n",
    "# Estimate the parameters\n",
    "res = mod.fit()\n",
    "\n",
    "# forcast the beef consumption in the next 20 years\n",
    "print(res.forecast(steps=30))\n",
    "\n",
    "future = res.forecast(steps=30)\n",
    "beef_long_list = numpy.concatenate((beef_list, future), axis=None)\n",
    "print(beef_long_list)"
   ]
  },
  {
   "cell_type": "code",
   "execution_count": 11,
   "metadata": {
    "colab": {
     "base_uri": "https://localhost:8080/",
     "height": 771
    },
    "id": "cIXDoGvxSQcL",
    "outputId": "ef8a09be-910a-4e76-86c1-4c40e421a382"
   },
   "outputs": [
    {
     "ename": "AttributeError",
     "evalue": "'AutoRegResults' object has no attribute 'forecast'",
     "output_type": "error",
     "traceback": [
      "\u001b[1;31m---------------------------------------------------------------------------\u001b[0m",
      "\u001b[1;31mAttributeError\u001b[0m                            Traceback (most recent call last)",
      "\u001b[1;32m<ipython-input-11-2d959e62e94c>\u001b[0m in \u001b[0;36m<module>\u001b[1;34m\u001b[0m\n\u001b[0;32m     15\u001b[0m \u001b[1;31m# fit mode\u001b[0m\u001b[1;33m\u001b[0m\u001b[1;33m\u001b[0m\u001b[1;33m\u001b[0m\u001b[0m\n\u001b[0;32m     16\u001b[0m \u001b[0mx\u001b[0m \u001b[1;33m=\u001b[0m \u001b[0mnumpy\u001b[0m\u001b[1;33m.\u001b[0m\u001b[0mlinspace\u001b[0m\u001b[1;33m(\u001b[0m\u001b[1;36m1970\u001b[0m\u001b[1;33m,\u001b[0m \u001b[1;36m2050\u001b[0m\u001b[1;33m,\u001b[0m\u001b[1;36m80\u001b[0m\u001b[1;33m)\u001b[0m\u001b[1;33m\u001b[0m\u001b[1;33m\u001b[0m\u001b[0m\n\u001b[1;32m---> 17\u001b[1;33m \u001b[0mbeef_long_list\u001b[0m \u001b[1;33m=\u001b[0m \u001b[0mforcast_30_years\u001b[0m\u001b[1;33m(\u001b[0m\u001b[0mbeef_list\u001b[0m\u001b[1;33m)\u001b[0m\u001b[1;33m\u001b[0m\u001b[1;33m\u001b[0m\u001b[0m\n\u001b[0m\u001b[0;32m     18\u001b[0m \u001b[0mchicken_long_list\u001b[0m \u001b[1;33m=\u001b[0m \u001b[0mforcast_30_years\u001b[0m\u001b[1;33m(\u001b[0m\u001b[0mchicken_list\u001b[0m\u001b[1;33m)\u001b[0m\u001b[1;33m\u001b[0m\u001b[1;33m\u001b[0m\u001b[0m\n\u001b[0;32m     19\u001b[0m \u001b[1;33m\u001b[0m\u001b[0m\n",
      "\u001b[1;32m<ipython-input-11-2d959e62e94c>\u001b[0m in \u001b[0;36mforcast_30_years\u001b[1;34m(data)\u001b[0m\n\u001b[0;32m      8\u001b[0m     \u001b[1;31m# make prediction\u001b[0m\u001b[1;33m\u001b[0m\u001b[1;33m\u001b[0m\u001b[1;33m\u001b[0m\u001b[0m\n\u001b[0;32m      9\u001b[0m     \u001b[0myhat\u001b[0m \u001b[1;33m=\u001b[0m \u001b[0mmodel_fit\u001b[0m\u001b[1;33m.\u001b[0m\u001b[0mpredict\u001b[0m\u001b[1;33m(\u001b[0m\u001b[0mlen\u001b[0m\u001b[1;33m(\u001b[0m\u001b[0mdata\u001b[0m\u001b[1;33m)\u001b[0m\u001b[1;33m,\u001b[0m \u001b[0mlen\u001b[0m\u001b[1;33m(\u001b[0m\u001b[0mdata\u001b[0m\u001b[1;33m)\u001b[0m\u001b[1;33m)\u001b[0m\u001b[1;33m\u001b[0m\u001b[1;33m\u001b[0m\u001b[0m\n\u001b[1;32m---> 10\u001b[1;33m     \u001b[0myhat_list\u001b[0m \u001b[1;33m=\u001b[0m \u001b[0mmodel_fit\u001b[0m\u001b[1;33m.\u001b[0m\u001b[0mforecast\u001b[0m\u001b[1;33m(\u001b[0m\u001b[0msteps\u001b[0m\u001b[1;33m=\u001b[0m\u001b[1;36m30\u001b[0m\u001b[1;33m)\u001b[0m\u001b[1;33m\u001b[0m\u001b[1;33m\u001b[0m\u001b[0m\n\u001b[0m\u001b[0;32m     11\u001b[0m     \u001b[0mprint\u001b[0m\u001b[1;33m(\u001b[0m\u001b[0myhat_list\u001b[0m\u001b[1;33m)\u001b[0m\u001b[1;33m\u001b[0m\u001b[1;33m\u001b[0m\u001b[0m\n\u001b[0;32m     12\u001b[0m     \u001b[0mlong_list\u001b[0m \u001b[1;33m=\u001b[0m \u001b[0mnumpy\u001b[0m\u001b[1;33m.\u001b[0m\u001b[0mconcatenate\u001b[0m\u001b[1;33m(\u001b[0m\u001b[1;33m(\u001b[0m\u001b[0mdata\u001b[0m\u001b[1;33m,\u001b[0m \u001b[0myhat_list\u001b[0m\u001b[1;33m)\u001b[0m\u001b[1;33m,\u001b[0m \u001b[0maxis\u001b[0m\u001b[1;33m=\u001b[0m\u001b[1;32mNone\u001b[0m\u001b[1;33m)\u001b[0m\u001b[1;33m\u001b[0m\u001b[1;33m\u001b[0m\u001b[0m\n",
      "\u001b[1;32m~\\anaconda3\\lib\\site-packages\\statsmodels\\base\\wrapper.py\u001b[0m in \u001b[0;36m__getattribute__\u001b[1;34m(self, attr)\u001b[0m\n\u001b[0;32m     34\u001b[0m             \u001b[1;32mpass\u001b[0m\u001b[1;33m\u001b[0m\u001b[1;33m\u001b[0m\u001b[0m\n\u001b[0;32m     35\u001b[0m \u001b[1;33m\u001b[0m\u001b[0m\n\u001b[1;32m---> 36\u001b[1;33m         \u001b[0mobj\u001b[0m \u001b[1;33m=\u001b[0m \u001b[0mgetattr\u001b[0m\u001b[1;33m(\u001b[0m\u001b[0mresults\u001b[0m\u001b[1;33m,\u001b[0m \u001b[0mattr\u001b[0m\u001b[1;33m)\u001b[0m\u001b[1;33m\u001b[0m\u001b[1;33m\u001b[0m\u001b[0m\n\u001b[0m\u001b[0;32m     37\u001b[0m         \u001b[0mdata\u001b[0m \u001b[1;33m=\u001b[0m \u001b[0mresults\u001b[0m\u001b[1;33m.\u001b[0m\u001b[0mmodel\u001b[0m\u001b[1;33m.\u001b[0m\u001b[0mdata\u001b[0m\u001b[1;33m\u001b[0m\u001b[1;33m\u001b[0m\u001b[0m\n\u001b[0;32m     38\u001b[0m         \u001b[0mhow\u001b[0m \u001b[1;33m=\u001b[0m \u001b[0mself\u001b[0m\u001b[1;33m.\u001b[0m\u001b[0m_wrap_attrs\u001b[0m\u001b[1;33m.\u001b[0m\u001b[0mget\u001b[0m\u001b[1;33m(\u001b[0m\u001b[0mattr\u001b[0m\u001b[1;33m)\u001b[0m\u001b[1;33m\u001b[0m\u001b[1;33m\u001b[0m\u001b[0m\n",
      "\u001b[1;31mAttributeError\u001b[0m: 'AutoRegResults' object has no attribute 'forecast'"
     ]
    }
   ],
   "source": [
    "from statsmodels.tsa.ar_model import AutoReg\n",
    "from random import random\n",
    "# contrived dataset\n",
    "def forcast_30_years(data):\n",
    "    # fit model for beef\n",
    "    model = AutoReg(data, lags=1)\n",
    "    model_fit = model.fit()\n",
    "    # make prediction\n",
    "    yhat = model_fit.predict(len(data), len(data))\n",
    "    yhat_list = model_fit.forecast(steps=30)\n",
    "    print(yhat_list)\n",
    "    long_list = numpy.concatenate((data, yhat_list), axis=None)\n",
    "    return long_list\n",
    "\n",
    "# fit mode \n",
    "x = numpy.linspace(1970, 2050,80)\n",
    "beef_long_list = forcast_30_years(beef_list)\n",
    "chicken_long_list = forcast_30_years(chicken_list)\n",
    "\n",
    "# construct a beef_long_list where the beef consumption is reduced by 50%\n",
    "new_beef_list = numpy.zeros(80)\n",
    "for i in range(0,80):\n",
    "    if i < 50:\n",
    "        new_beef_list[i]=beef_long_list[i]\n",
    "    else:\n",
    "        new_beef_list[i]=beef_long_list[50]*pow(0.98,i-50)\n",
    "plt.plot(x, beef_long_list, color=\"green\",label='beef consumption')\n",
    "plt.plot(x, chicken_long_list, color=\"yellow\", label='chick consumption')\n",
    "plt.plot(x, new_beef_list, color=\"blue\", label='reduced beef consumption')\n",
    "print(new_beef_list)\n",
    "\n",
    "plt.legend()\n",
    "plt.xlabel('year')\n",
    "plt.ylabel('consumption in pounds')\n",
    "plt.show()\n"
   ]
  },
  {
   "cell_type": "code",
   "execution_count": 12,
   "metadata": {
    "colab": {
     "base_uri": "https://localhost:8080/"
    },
    "id": "b-FQfhHZSQcM",
    "outputId": "96cb1bd2-1c7d-4171-beba-5888011879d8"
   },
   "outputs": [
    {
     "ename": "NameError",
     "evalue": "name 'chicken_long_list' is not defined",
     "output_type": "error",
     "traceback": [
      "\u001b[1;31m---------------------------------------------------------------------------\u001b[0m",
      "\u001b[1;31mNameError\u001b[0m                                 Traceback (most recent call last)",
      "\u001b[1;32m<ipython-input-12-06bd810d1206>\u001b[0m in \u001b[0;36m<module>\u001b[1;34m\u001b[0m\n\u001b[0;32m      6\u001b[0m \u001b[0mold_sum\u001b[0m \u001b[1;33m=\u001b[0m \u001b[1;36m0\u001b[0m\u001b[1;33m\u001b[0m\u001b[1;33m\u001b[0m\u001b[0m\n\u001b[0;32m      7\u001b[0m \u001b[0mnew_sum\u001b[0m \u001b[1;33m=\u001b[0m \u001b[1;36m0\u001b[0m\u001b[1;33m\u001b[0m\u001b[1;33m\u001b[0m\u001b[0m\n\u001b[1;32m----> 8\u001b[1;33m \u001b[0mchick_2020\u001b[0m \u001b[1;33m=\u001b[0m \u001b[0mchicken_long_list\u001b[0m\u001b[1;33m[\u001b[0m\u001b[1;36m2020\u001b[0m\u001b[1;33m-\u001b[0m\u001b[1;36m1970\u001b[0m\u001b[1;33m]\u001b[0m\u001b[1;33m\u001b[0m\u001b[1;33m\u001b[0m\u001b[0m\n\u001b[0m\u001b[0;32m      9\u001b[0m \u001b[1;32mfor\u001b[0m \u001b[0mi\u001b[0m \u001b[1;32min\u001b[0m \u001b[0mrange\u001b[0m\u001b[1;33m(\u001b[0m\u001b[1;36m2020\u001b[0m\u001b[1;33m,\u001b[0m \u001b[1;36m2050\u001b[0m\u001b[1;33m)\u001b[0m\u001b[1;33m:\u001b[0m\u001b[1;33m\u001b[0m\u001b[1;33m\u001b[0m\u001b[0m\n\u001b[0;32m     10\u001b[0m      \u001b[0mpop\u001b[0m \u001b[1;33m=\u001b[0m \u001b[0mdf_show2\u001b[0m\u001b[1;33m[\u001b[0m\u001b[0mi\u001b[0m\u001b[1;33m-\u001b[0m\u001b[1;36m1910\u001b[0m\u001b[1;33m]\u001b[0m\u001b[1;33m\u001b[0m\u001b[1;33m\u001b[0m\u001b[0m\n",
      "\u001b[1;31mNameError\u001b[0m: name 'chicken_long_list' is not defined"
     ]
    }
   ],
   "source": [
    "# calculate reduced carbone emission\n",
    "# diet change: beef_long_list, new_beef_list chicken_long_list\n",
    "# population change: df_show\n",
    "df_show2=numpy.array([round(x) for x in df_show])\n",
    "# carbon emission \n",
    "old_sum = 0\n",
    "new_sum = 0\n",
    "chick_2020 = chicken_long_list[2020-1970]\n",
    "for i in range(2020, 2050):\n",
    "     pop = df_show2[i-1910]\n",
    "     beef_consumed = beef_long_list[i-1970]\n",
    "     reduce_beef = new_beef_list[i-1970]\n",
    "     chick_consumed = chicken_long_list[i-1970]\n",
    "     old_sum = old_sum + beef_footprint*beef_consumed*pop + chick_footprint*chick_2020*pop\n",
    "     new_sum = new_sum + beef_footprint*reduce_beef*pop + chick_footprint*chick_consumed*pop\n",
    "\n",
    "print('estimated CO2 emission caused by beef consumption over the next 30 years %d million tons' % (old_sum/1000000000))\n",
    "print('estimated CO2 emission that we can be acheive by gradually replacing beef with chicken in the next 30 years %d million tons' % (new_sum/1000000000))\n",
    "print((old_sum - new_sum)/1000000000)\n",
    "\n",
    "# in one year a mature tree will absorb more than 48 pounds of carbon dioxide from the atmosphere and release oxygen in exchange\n",
    "# A tree absorbs approximately 25kg of CO2 per year\n",
    "t=(old_sum - new_sum)/pop\n",
    "print('this amount of CO2 emission reduction would be quivalent to planting %d trees ' % (t/(25*30) ))"
   ]
  },
  {
   "cell_type": "code",
   "execution_count": 13,
   "metadata": {
    "colab": {
     "base_uri": "https://localhost:8080/",
     "height": 771
    },
    "id": "6MqiqGinSQcN",
    "outputId": "55abd0e8-3c29-494d-bde4-44ab82e15b9b"
   },
   "outputs": [
    {
     "ename": "AttributeError",
     "evalue": "'AutoRegResults' object has no attribute 'forecast'",
     "output_type": "error",
     "traceback": [
      "\u001b[1;31m---------------------------------------------------------------------------\u001b[0m",
      "\u001b[1;31mAttributeError\u001b[0m                            Traceback (most recent call last)",
      "\u001b[1;32m<ipython-input-13-9a232d053af2>\u001b[0m in \u001b[0;36m<module>\u001b[1;34m\u001b[0m\n\u001b[0;32m     26\u001b[0m \u001b[1;31m# fit mode\u001b[0m\u001b[1;33m\u001b[0m\u001b[1;33m\u001b[0m\u001b[1;33m\u001b[0m\u001b[0m\n\u001b[0;32m     27\u001b[0m \u001b[0mx\u001b[0m \u001b[1;33m=\u001b[0m \u001b[0mnumpy\u001b[0m\u001b[1;33m.\u001b[0m\u001b[0mlinspace\u001b[0m\u001b[1;33m(\u001b[0m\u001b[1;36m1970\u001b[0m\u001b[1;33m,\u001b[0m \u001b[1;36m2050\u001b[0m\u001b[1;33m,\u001b[0m\u001b[1;36m80\u001b[0m\u001b[1;33m)\u001b[0m\u001b[1;33m\u001b[0m\u001b[1;33m\u001b[0m\u001b[0m\n\u001b[1;32m---> 28\u001b[1;33m \u001b[0mbeef_long_list\u001b[0m \u001b[1;33m=\u001b[0m \u001b[0mforcast_30_years\u001b[0m\u001b[1;33m(\u001b[0m\u001b[0mbeef_list\u001b[0m\u001b[1;33m)\u001b[0m\u001b[1;33m\u001b[0m\u001b[1;33m\u001b[0m\u001b[0m\n\u001b[0m\u001b[0;32m     29\u001b[0m \u001b[0mchicken_long_list\u001b[0m \u001b[1;33m=\u001b[0m \u001b[0mforcast_30_years\u001b[0m\u001b[1;33m(\u001b[0m\u001b[0mchicken_list\u001b[0m\u001b[1;33m)\u001b[0m\u001b[1;33m\u001b[0m\u001b[1;33m\u001b[0m\u001b[0m\n\u001b[0;32m     30\u001b[0m \u001b[1;33m\u001b[0m\u001b[0m\n",
      "\u001b[1;32m<ipython-input-13-9a232d053af2>\u001b[0m in \u001b[0;36mforcast_30_years\u001b[1;34m(data)\u001b[0m\n\u001b[0;32m     11\u001b[0m     \u001b[1;31m# make prediction\u001b[0m\u001b[1;33m\u001b[0m\u001b[1;33m\u001b[0m\u001b[1;33m\u001b[0m\u001b[0m\n\u001b[0;32m     12\u001b[0m     \u001b[0myhat\u001b[0m \u001b[1;33m=\u001b[0m \u001b[0mmodel_fit\u001b[0m\u001b[1;33m.\u001b[0m\u001b[0mpredict\u001b[0m\u001b[1;33m(\u001b[0m\u001b[0mlen\u001b[0m\u001b[1;33m(\u001b[0m\u001b[0mdata\u001b[0m\u001b[1;33m)\u001b[0m\u001b[1;33m,\u001b[0m \u001b[0mlen\u001b[0m\u001b[1;33m(\u001b[0m\u001b[0mdata\u001b[0m\u001b[1;33m)\u001b[0m\u001b[1;33m)\u001b[0m\u001b[1;33m\u001b[0m\u001b[1;33m\u001b[0m\u001b[0m\n\u001b[1;32m---> 13\u001b[1;33m     \u001b[0myhat_list\u001b[0m \u001b[1;33m=\u001b[0m \u001b[0mmodel_fit\u001b[0m\u001b[1;33m.\u001b[0m\u001b[0mforecast\u001b[0m\u001b[1;33m(\u001b[0m\u001b[0msteps\u001b[0m\u001b[1;33m=\u001b[0m\u001b[1;36m30\u001b[0m\u001b[1;33m)\u001b[0m\u001b[1;33m\u001b[0m\u001b[1;33m\u001b[0m\u001b[0m\n\u001b[0m\u001b[0;32m     14\u001b[0m     \u001b[0mprint\u001b[0m\u001b[1;33m(\u001b[0m\u001b[0myhat_list\u001b[0m\u001b[1;33m)\u001b[0m\u001b[1;33m\u001b[0m\u001b[1;33m\u001b[0m\u001b[0m\n\u001b[0;32m     15\u001b[0m     \u001b[0mlong_list\u001b[0m \u001b[1;33m=\u001b[0m \u001b[0mnumpy\u001b[0m\u001b[1;33m.\u001b[0m\u001b[0mconcatenate\u001b[0m\u001b[1;33m(\u001b[0m\u001b[1;33m(\u001b[0m\u001b[0mdata\u001b[0m\u001b[1;33m,\u001b[0m \u001b[0myhat_list\u001b[0m\u001b[1;33m)\u001b[0m\u001b[1;33m,\u001b[0m \u001b[0maxis\u001b[0m\u001b[1;33m=\u001b[0m\u001b[1;32mNone\u001b[0m\u001b[1;33m)\u001b[0m\u001b[1;33m\u001b[0m\u001b[1;33m\u001b[0m\u001b[0m\n",
      "\u001b[1;32m~\\anaconda3\\lib\\site-packages\\statsmodels\\base\\wrapper.py\u001b[0m in \u001b[0;36m__getattribute__\u001b[1;34m(self, attr)\u001b[0m\n\u001b[0;32m     34\u001b[0m             \u001b[1;32mpass\u001b[0m\u001b[1;33m\u001b[0m\u001b[1;33m\u001b[0m\u001b[0m\n\u001b[0;32m     35\u001b[0m \u001b[1;33m\u001b[0m\u001b[0m\n\u001b[1;32m---> 36\u001b[1;33m         \u001b[0mobj\u001b[0m \u001b[1;33m=\u001b[0m \u001b[0mgetattr\u001b[0m\u001b[1;33m(\u001b[0m\u001b[0mresults\u001b[0m\u001b[1;33m,\u001b[0m \u001b[0mattr\u001b[0m\u001b[1;33m)\u001b[0m\u001b[1;33m\u001b[0m\u001b[1;33m\u001b[0m\u001b[0m\n\u001b[0m\u001b[0;32m     37\u001b[0m         \u001b[0mdata\u001b[0m \u001b[1;33m=\u001b[0m \u001b[0mresults\u001b[0m\u001b[1;33m.\u001b[0m\u001b[0mmodel\u001b[0m\u001b[1;33m.\u001b[0m\u001b[0mdata\u001b[0m\u001b[1;33m\u001b[0m\u001b[1;33m\u001b[0m\u001b[0m\n\u001b[0;32m     38\u001b[0m         \u001b[0mhow\u001b[0m \u001b[1;33m=\u001b[0m \u001b[0mself\u001b[0m\u001b[1;33m.\u001b[0m\u001b[0m_wrap_attrs\u001b[0m\u001b[1;33m.\u001b[0m\u001b[0mget\u001b[0m\u001b[1;33m(\u001b[0m\u001b[0mattr\u001b[0m\u001b[1;33m)\u001b[0m\u001b[1;33m\u001b[0m\u001b[1;33m\u001b[0m\u001b[0m\n",
      "\u001b[1;31mAttributeError\u001b[0m: 'AutoRegResults' object has no attribute 'forecast'"
     ]
    }
   ],
   "source": [
    "import statsmodels\n",
    "from statsmodels.tsa.ar_model import AutoReg\n",
    "from random import random\n",
    "import statsmodels.api as sm\n",
    "\n",
    "# contrived dataset\n",
    "def forcast_30_years(data):\n",
    "    # fit model for beef\n",
    "    model = AutoReg(data, lags=1)\n",
    "    model_fit = model.fit()\n",
    "    # make prediction\n",
    "    yhat = model_fit.predict(len(data), len(data))\n",
    "    yhat_list = model_fit.forecast(steps=30)\n",
    "    print(yhat_list)\n",
    "    long_list = numpy.concatenate((data, yhat_list), axis=None)\n",
    "    return long_list\n",
    "\n",
    "# read beef and chicken consumption in pounds\n",
    "\n",
    "df_consumption = pd.read_excel(\"Food Research 2022.08.28.xlsx\", sheet_name = \"3. Food Consumption\")\n",
    "# 1970 - 2019\n",
    "beefs = df_consumption.loc[df_consumption['Tab name']=='Beef']['Consumer Weight in Pounds']\n",
    "poultries = df_consumption.loc[df_consumption['Tab name']=='Poultry']['Consumer Weight in Pounds']\n",
    "beef_list = beefs.to_numpy()\n",
    "chicken_list = poultries.to_numpy()\n",
    "# fit mode \n",
    "x = numpy.linspace(1970, 2050,80)\n",
    "beef_long_list = forcast_30_years(beef_list)\n",
    "chicken_long_list = forcast_30_years(chicken_list)\n",
    "\n",
    "# construct a beef_long_list where the beef consumption is reduced by 50%\n",
    "new_beef_list = numpy.zeros(80)\n",
    "for i in range(0,80):\n",
    "    if i < 50:\n",
    "        new_beef_list[i]=beef_long_list[i]\n",
    "    else:\n",
    "        new_beef_list[i]=beef_long_list[50]*pow(0.98,i-50)\n",
    "plt.plot(x, beef_long_list, color=\"green\",label='beef consumption')\n",
    "plt.plot(x, chicken_long_list, color=\"yellow\", label='chick consumption')\n",
    "plt.plot(x, new_beef_list, color=\"blue\", label='reduced beef consumption')\n",
    "print(new_beef_list)\n",
    "\n",
    "plt.legend()\n",
    "plt.xlabel('year')\n",
    "plt.ylabel('consumption in pounds')\n",
    "plt.show()"
   ]
  },
  {
   "cell_type": "code",
   "execution_count": 14,
   "metadata": {
    "colab": {
     "base_uri": "https://localhost:8080/",
     "height": 751
    },
    "id": "y1-3taFzSQcO",
    "outputId": "b372f446-9422-4c48-a96a-c6b7b10f6860"
   },
   "outputs": [
    {
     "ename": "NameError",
     "evalue": "name 'chicken_long_list' is not defined",
     "output_type": "error",
     "traceback": [
      "\u001b[1;31m---------------------------------------------------------------------------\u001b[0m",
      "\u001b[1;31mNameError\u001b[0m                                 Traceback (most recent call last)",
      "\u001b[1;32m<ipython-input-14-c689588978af>\u001b[0m in \u001b[0;36m<module>\u001b[1;34m\u001b[0m\n\u001b[0;32m      2\u001b[0m \u001b[0mold_sum\u001b[0m \u001b[1;33m=\u001b[0m \u001b[1;36m0\u001b[0m\u001b[1;33m\u001b[0m\u001b[1;33m\u001b[0m\u001b[0m\n\u001b[0;32m      3\u001b[0m \u001b[0mnew_sum\u001b[0m \u001b[1;33m=\u001b[0m \u001b[1;36m0\u001b[0m\u001b[1;33m\u001b[0m\u001b[1;33m\u001b[0m\u001b[0m\n\u001b[1;32m----> 4\u001b[1;33m \u001b[0mchick_2020\u001b[0m \u001b[1;33m=\u001b[0m \u001b[0mchicken_long_list\u001b[0m\u001b[1;33m[\u001b[0m\u001b[1;36m2020\u001b[0m\u001b[1;33m-\u001b[0m\u001b[1;36m1970\u001b[0m\u001b[1;33m]\u001b[0m\u001b[1;33m\u001b[0m\u001b[1;33m\u001b[0m\u001b[0m\n\u001b[0m\u001b[0;32m      5\u001b[0m \u001b[0memission_list\u001b[0m \u001b[1;33m=\u001b[0m \u001b[0mnumpy\u001b[0m\u001b[1;33m.\u001b[0m\u001b[0marange\u001b[0m\u001b[1;33m(\u001b[0m\u001b[1;36m1970\u001b[0m\u001b[1;33m,\u001b[0m\u001b[1;36m2050\u001b[0m\u001b[1;33m)\u001b[0m\u001b[1;33m\u001b[0m\u001b[1;33m\u001b[0m\u001b[0m\n\u001b[0;32m      6\u001b[0m \u001b[0mnew_emission_list\u001b[0m \u001b[1;33m=\u001b[0m \u001b[0mnumpy\u001b[0m\u001b[1;33m.\u001b[0m\u001b[0marange\u001b[0m\u001b[1;33m(\u001b[0m\u001b[1;36m1970\u001b[0m\u001b[1;33m,\u001b[0m\u001b[1;36m2050\u001b[0m\u001b[1;33m)\u001b[0m\u001b[1;33m\u001b[0m\u001b[1;33m\u001b[0m\u001b[0m\n",
      "\u001b[1;31mNameError\u001b[0m: name 'chicken_long_list' is not defined"
     ]
    }
   ],
   "source": [
    "\n",
    "# carbon emission \n",
    "old_sum = 0\n",
    "new_sum = 0\n",
    "chick_2020 = chicken_long_list[2020-1970]\n",
    "emission_list = numpy.arange(1970,2050)\n",
    "new_emission_list = numpy.arange(1970,2050)\n",
    "beef_emission_list = numpy.arange(1970,2050)\n",
    "chick_emission_list = numpy.arange(1970,2050)\n",
    "poundtokg = 0.4536\n",
    "for i in range(1970, 2050):\n",
    "     beef_consumed = beef_long_list[i-1970]\n",
    "     reduce_beef = new_beef_list[i-1970]\n",
    "     chick_consumed = chicken_long_list[i-1970]\n",
    "     emission_list[i-1970] =  (beef_footprint*beef_consumed + chick_footprint*chick_consumed)*poundtokg;\n",
    "     new_emission_list[i-1970] = (beef_footprint*reduce_beef + chick_footprint*chick_consumed)*poundtokg;\n",
    "     beef_emission_list[i-1970] = beef_footprint*beef_consumed*poundtokg;\n",
    "     chick_emission_list[i-1970] = chick_footprint*chick_consumed*poundtokg\n",
    "    \n",
    "\n",
    "plt.plot(x, emission_list, color=\"green\",label='projected emission per consumer')\n",
    "plt.plot(x, new_emission_list, color=\"yellow\", label='reduced emission per consumer')\n",
    "plt.plot(x, beef_emission_list, color=\"blue\", label='projected  emission by beef per consumer')\n",
    "plt.plot(x, chick_emission_list, color=\"black\", label='projected  emission by chick per consumer')\n",
    "\n",
    "print(chicken_long_list)\n",
    "print(emission_list)\n",
    "print(new_emission_list)\n",
    "\n",
    "plt.legend()\n",
    "plt.xlabel('year')\n",
    "plt.ylabel('emission per consumer')\n",
    "plt.show()"
   ]
  },
  {
   "cell_type": "code",
   "execution_count": null,
   "metadata": {
    "id": "OIrbBBZUSQcO"
   },
   "outputs": [],
   "source": []
  },
  {
   "cell_type": "code",
   "execution_count": null,
   "metadata": {},
   "outputs": [],
   "source": []
  },
  {
   "cell_type": "code",
   "execution_count": null,
   "metadata": {},
   "outputs": [],
   "source": []
  },
  {
   "cell_type": "code",
   "execution_count": null,
   "metadata": {},
   "outputs": [],
   "source": []
  }
 ],
 "metadata": {
  "colab": {
   "provenance": []
  },
  "kernelspec": {
   "display_name": "Python 3",
   "language": "python",
   "name": "python3"
  },
  "language_info": {
   "codemirror_mode": {
    "name": "ipython",
    "version": 3
   },
   "file_extension": ".py",
   "mimetype": "text/x-python",
   "name": "python",
   "nbconvert_exporter": "python",
   "pygments_lexer": "ipython3",
   "version": "3.7.6"
  }
 },
 "nbformat": 4,
 "nbformat_minor": 1
}
